{
 "cells": [
  {
   "cell_type": "code",
   "execution_count": 1,
   "id": "d98be4e2",
   "metadata": {},
   "outputs": [],
   "source": [
    "import pandas as pd\n",
    "import matplotlib.pyplot as plt\n",
    "import seaborn as sns\n",
    "import numpy as np\n",
    "\n",
    "from sklearn.model_selection import train_test_split\n",
    "from sklearn.model_selection import cross_val_score"
   ]
  },
  {
   "cell_type": "code",
   "execution_count": 2,
   "id": "bd150f05",
   "metadata": {},
   "outputs": [],
   "source": [
    "from sklearn.naive_bayes import BernoulliNB\n",
    "from sklearn.naive_bayes import GaussianNB\n",
    "from sklearn.tree import DecisionTreeClassifier\n",
    "from sklearn.model_selection import GridSearchCV\n",
    "from sklearn.neighbors import KNeighborsClassifier\n",
    "from sklearn.neural_network import MLPClassifier\n",
    "from sklearn import svm\n",
    "from sklearn.gaussian_process import GaussianProcessClassifier\n",
    "from sklearn.ensemble import RandomForestClassifier, AdaBoostClassifier\n",
    "from sklearn.discriminant_analysis import QuadraticDiscriminantAnalysis"
   ]
  },
  {
   "cell_type": "code",
   "execution_count": 3,
   "id": "f82be90a",
   "metadata": {},
   "outputs": [],
   "source": [
    "from sklearn.feature_selection import SelectKBest\n",
    "from sklearn.feature_selection import chi2"
   ]
  },
  {
   "cell_type": "code",
   "execution_count": 4,
   "id": "9b823009",
   "metadata": {},
   "outputs": [],
   "source": [
    "names = ['w_freq_make', 'w_freq_adress', 'w_freq_all', 'w_freq_3d', 'w_freq_our', 'w_freq_over', 'w_freq_remove',\n",
    "         'w_freq_internet', 'w_freq_order', 'w_freq_mail', 'w_freq_receive', 'w_freq_will', 'w_freq_people',\n",
    "         'w_freq_report', 'w_freq_adresses', 'w_freq_free', 'w_freq_business', 'w_freq_email', 'w_freq_you', 'w_freq_credit',\n",
    "         'w_freq_your', 'w_freq_font', 'w_freq_000', 'w_freq_money', 'w_freq_hp', 'w_freq_hpl', 'w_freq_george', 'w_freq_650',\n",
    "         'w_freq_lab', 'w_freq_labs', 'w_freq_telnet', 'w_freq_857', 'w_freq_data', 'w_freq_415', 'w_freq_85',\n",
    "         'w_freq_technology', 'w_freq_1999', 'w_freq_parts', 'w_freq_pm', 'w_freq_direct', 'w_freq_cs', 'w_freq_meeting',\n",
    "         'w_freq_original', 'w_freq_project', 'w_freq_re', 'w_freq_edu', 'w_freq_table', 'w_freq_conference',\n",
    "         'c_freq_;', 'c_freq_(', 'c_freq_[', 'c_freq_!', 'c_freq_$', 'c_freq_#',\n",
    "         'capital_run_length_average', 'capital_run_length_longest', 'capital_run_length_total', 'Is_Spam']\n",
    "# We name the 58 columns of our dataset"
   ]
  },
  {
   "cell_type": "code",
   "execution_count": 5,
   "id": "f18fb4c4",
   "metadata": {},
   "outputs": [],
   "source": [
    "df = pd.read_csv('https://archive.ics.uci.edu/ml/machine-learning-databases/spambase/spambase.data', names=names)"
   ]
  },
  {
   "cell_type": "code",
   "execution_count": 4,
   "id": "c267bb2e",
   "metadata": {},
   "outputs": [
    {
     "data": {
      "text/html": [
       "<div>\n",
       "<style scoped>\n",
       "    .dataframe tbody tr th:only-of-type {\n",
       "        vertical-align: middle;\n",
       "    }\n",
       "\n",
       "    .dataframe tbody tr th {\n",
       "        vertical-align: top;\n",
       "    }\n",
       "\n",
       "    .dataframe thead th {\n",
       "        text-align: right;\n",
       "    }\n",
       "</style>\n",
       "<table border=\"1\" class=\"dataframe\">\n",
       "  <thead>\n",
       "    <tr style=\"text-align: right;\">\n",
       "      <th></th>\n",
       "      <th>w_freq_make</th>\n",
       "      <th>w_freq_adress</th>\n",
       "      <th>w_freq_all</th>\n",
       "      <th>w_freq_3d</th>\n",
       "      <th>w_freq_our</th>\n",
       "      <th>w_freq_over</th>\n",
       "      <th>w_freq_remove</th>\n",
       "      <th>w_freq_internet</th>\n",
       "      <th>w_freq_order</th>\n",
       "      <th>w_freq_mail</th>\n",
       "      <th>...</th>\n",
       "      <th>c_freq_;</th>\n",
       "      <th>c_freq_(</th>\n",
       "      <th>c_freq_[</th>\n",
       "      <th>c_freq_!</th>\n",
       "      <th>c_freq_$</th>\n",
       "      <th>c_freq_#</th>\n",
       "      <th>capital_run_length_average</th>\n",
       "      <th>capital_run_length_longest</th>\n",
       "      <th>capital_run_length_total</th>\n",
       "      <th>Is_Spam</th>\n",
       "    </tr>\n",
       "  </thead>\n",
       "  <tbody>\n",
       "    <tr>\n",
       "      <th>0</th>\n",
       "      <td>0.00</td>\n",
       "      <td>0.64</td>\n",
       "      <td>0.64</td>\n",
       "      <td>0.0</td>\n",
       "      <td>0.32</td>\n",
       "      <td>0.00</td>\n",
       "      <td>0.00</td>\n",
       "      <td>0.00</td>\n",
       "      <td>0.00</td>\n",
       "      <td>0.00</td>\n",
       "      <td>...</td>\n",
       "      <td>0.000</td>\n",
       "      <td>0.000</td>\n",
       "      <td>0.0</td>\n",
       "      <td>0.778</td>\n",
       "      <td>0.000</td>\n",
       "      <td>0.000</td>\n",
       "      <td>3.756</td>\n",
       "      <td>61</td>\n",
       "      <td>278</td>\n",
       "      <td>1</td>\n",
       "    </tr>\n",
       "    <tr>\n",
       "      <th>1</th>\n",
       "      <td>0.21</td>\n",
       "      <td>0.28</td>\n",
       "      <td>0.50</td>\n",
       "      <td>0.0</td>\n",
       "      <td>0.14</td>\n",
       "      <td>0.28</td>\n",
       "      <td>0.21</td>\n",
       "      <td>0.07</td>\n",
       "      <td>0.00</td>\n",
       "      <td>0.94</td>\n",
       "      <td>...</td>\n",
       "      <td>0.000</td>\n",
       "      <td>0.132</td>\n",
       "      <td>0.0</td>\n",
       "      <td>0.372</td>\n",
       "      <td>0.180</td>\n",
       "      <td>0.048</td>\n",
       "      <td>5.114</td>\n",
       "      <td>101</td>\n",
       "      <td>1028</td>\n",
       "      <td>1</td>\n",
       "    </tr>\n",
       "    <tr>\n",
       "      <th>2</th>\n",
       "      <td>0.06</td>\n",
       "      <td>0.00</td>\n",
       "      <td>0.71</td>\n",
       "      <td>0.0</td>\n",
       "      <td>1.23</td>\n",
       "      <td>0.19</td>\n",
       "      <td>0.19</td>\n",
       "      <td>0.12</td>\n",
       "      <td>0.64</td>\n",
       "      <td>0.25</td>\n",
       "      <td>...</td>\n",
       "      <td>0.010</td>\n",
       "      <td>0.143</td>\n",
       "      <td>0.0</td>\n",
       "      <td>0.276</td>\n",
       "      <td>0.184</td>\n",
       "      <td>0.010</td>\n",
       "      <td>9.821</td>\n",
       "      <td>485</td>\n",
       "      <td>2259</td>\n",
       "      <td>1</td>\n",
       "    </tr>\n",
       "    <tr>\n",
       "      <th>3</th>\n",
       "      <td>0.00</td>\n",
       "      <td>0.00</td>\n",
       "      <td>0.00</td>\n",
       "      <td>0.0</td>\n",
       "      <td>0.63</td>\n",
       "      <td>0.00</td>\n",
       "      <td>0.31</td>\n",
       "      <td>0.63</td>\n",
       "      <td>0.31</td>\n",
       "      <td>0.63</td>\n",
       "      <td>...</td>\n",
       "      <td>0.000</td>\n",
       "      <td>0.137</td>\n",
       "      <td>0.0</td>\n",
       "      <td>0.137</td>\n",
       "      <td>0.000</td>\n",
       "      <td>0.000</td>\n",
       "      <td>3.537</td>\n",
       "      <td>40</td>\n",
       "      <td>191</td>\n",
       "      <td>1</td>\n",
       "    </tr>\n",
       "    <tr>\n",
       "      <th>4</th>\n",
       "      <td>0.00</td>\n",
       "      <td>0.00</td>\n",
       "      <td>0.00</td>\n",
       "      <td>0.0</td>\n",
       "      <td>0.63</td>\n",
       "      <td>0.00</td>\n",
       "      <td>0.31</td>\n",
       "      <td>0.63</td>\n",
       "      <td>0.31</td>\n",
       "      <td>0.63</td>\n",
       "      <td>...</td>\n",
       "      <td>0.000</td>\n",
       "      <td>0.135</td>\n",
       "      <td>0.0</td>\n",
       "      <td>0.135</td>\n",
       "      <td>0.000</td>\n",
       "      <td>0.000</td>\n",
       "      <td>3.537</td>\n",
       "      <td>40</td>\n",
       "      <td>191</td>\n",
       "      <td>1</td>\n",
       "    </tr>\n",
       "    <tr>\n",
       "      <th>...</th>\n",
       "      <td>...</td>\n",
       "      <td>...</td>\n",
       "      <td>...</td>\n",
       "      <td>...</td>\n",
       "      <td>...</td>\n",
       "      <td>...</td>\n",
       "      <td>...</td>\n",
       "      <td>...</td>\n",
       "      <td>...</td>\n",
       "      <td>...</td>\n",
       "      <td>...</td>\n",
       "      <td>...</td>\n",
       "      <td>...</td>\n",
       "      <td>...</td>\n",
       "      <td>...</td>\n",
       "      <td>...</td>\n",
       "      <td>...</td>\n",
       "      <td>...</td>\n",
       "      <td>...</td>\n",
       "      <td>...</td>\n",
       "      <td>...</td>\n",
       "    </tr>\n",
       "    <tr>\n",
       "      <th>4596</th>\n",
       "      <td>0.31</td>\n",
       "      <td>0.00</td>\n",
       "      <td>0.62</td>\n",
       "      <td>0.0</td>\n",
       "      <td>0.00</td>\n",
       "      <td>0.31</td>\n",
       "      <td>0.00</td>\n",
       "      <td>0.00</td>\n",
       "      <td>0.00</td>\n",
       "      <td>0.00</td>\n",
       "      <td>...</td>\n",
       "      <td>0.000</td>\n",
       "      <td>0.232</td>\n",
       "      <td>0.0</td>\n",
       "      <td>0.000</td>\n",
       "      <td>0.000</td>\n",
       "      <td>0.000</td>\n",
       "      <td>1.142</td>\n",
       "      <td>3</td>\n",
       "      <td>88</td>\n",
       "      <td>0</td>\n",
       "    </tr>\n",
       "    <tr>\n",
       "      <th>4597</th>\n",
       "      <td>0.00</td>\n",
       "      <td>0.00</td>\n",
       "      <td>0.00</td>\n",
       "      <td>0.0</td>\n",
       "      <td>0.00</td>\n",
       "      <td>0.00</td>\n",
       "      <td>0.00</td>\n",
       "      <td>0.00</td>\n",
       "      <td>0.00</td>\n",
       "      <td>0.00</td>\n",
       "      <td>...</td>\n",
       "      <td>0.000</td>\n",
       "      <td>0.000</td>\n",
       "      <td>0.0</td>\n",
       "      <td>0.353</td>\n",
       "      <td>0.000</td>\n",
       "      <td>0.000</td>\n",
       "      <td>1.555</td>\n",
       "      <td>4</td>\n",
       "      <td>14</td>\n",
       "      <td>0</td>\n",
       "    </tr>\n",
       "    <tr>\n",
       "      <th>4598</th>\n",
       "      <td>0.30</td>\n",
       "      <td>0.00</td>\n",
       "      <td>0.30</td>\n",
       "      <td>0.0</td>\n",
       "      <td>0.00</td>\n",
       "      <td>0.00</td>\n",
       "      <td>0.00</td>\n",
       "      <td>0.00</td>\n",
       "      <td>0.00</td>\n",
       "      <td>0.00</td>\n",
       "      <td>...</td>\n",
       "      <td>0.102</td>\n",
       "      <td>0.718</td>\n",
       "      <td>0.0</td>\n",
       "      <td>0.000</td>\n",
       "      <td>0.000</td>\n",
       "      <td>0.000</td>\n",
       "      <td>1.404</td>\n",
       "      <td>6</td>\n",
       "      <td>118</td>\n",
       "      <td>0</td>\n",
       "    </tr>\n",
       "    <tr>\n",
       "      <th>4599</th>\n",
       "      <td>0.96</td>\n",
       "      <td>0.00</td>\n",
       "      <td>0.00</td>\n",
       "      <td>0.0</td>\n",
       "      <td>0.32</td>\n",
       "      <td>0.00</td>\n",
       "      <td>0.00</td>\n",
       "      <td>0.00</td>\n",
       "      <td>0.00</td>\n",
       "      <td>0.00</td>\n",
       "      <td>...</td>\n",
       "      <td>0.000</td>\n",
       "      <td>0.057</td>\n",
       "      <td>0.0</td>\n",
       "      <td>0.000</td>\n",
       "      <td>0.000</td>\n",
       "      <td>0.000</td>\n",
       "      <td>1.147</td>\n",
       "      <td>5</td>\n",
       "      <td>78</td>\n",
       "      <td>0</td>\n",
       "    </tr>\n",
       "    <tr>\n",
       "      <th>4600</th>\n",
       "      <td>0.00</td>\n",
       "      <td>0.00</td>\n",
       "      <td>0.65</td>\n",
       "      <td>0.0</td>\n",
       "      <td>0.00</td>\n",
       "      <td>0.00</td>\n",
       "      <td>0.00</td>\n",
       "      <td>0.00</td>\n",
       "      <td>0.00</td>\n",
       "      <td>0.00</td>\n",
       "      <td>...</td>\n",
       "      <td>0.000</td>\n",
       "      <td>0.000</td>\n",
       "      <td>0.0</td>\n",
       "      <td>0.125</td>\n",
       "      <td>0.000</td>\n",
       "      <td>0.000</td>\n",
       "      <td>1.250</td>\n",
       "      <td>5</td>\n",
       "      <td>40</td>\n",
       "      <td>0</td>\n",
       "    </tr>\n",
       "  </tbody>\n",
       "</table>\n",
       "<p>4601 rows × 58 columns</p>\n",
       "</div>"
      ],
      "text/plain": [
       "      w_freq_make  w_freq_adress  w_freq_all  w_freq_3d  w_freq_our  \\\n",
       "0            0.00           0.64        0.64        0.0        0.32   \n",
       "1            0.21           0.28        0.50        0.0        0.14   \n",
       "2            0.06           0.00        0.71        0.0        1.23   \n",
       "3            0.00           0.00        0.00        0.0        0.63   \n",
       "4            0.00           0.00        0.00        0.0        0.63   \n",
       "...           ...            ...         ...        ...         ...   \n",
       "4596         0.31           0.00        0.62        0.0        0.00   \n",
       "4597         0.00           0.00        0.00        0.0        0.00   \n",
       "4598         0.30           0.00        0.30        0.0        0.00   \n",
       "4599         0.96           0.00        0.00        0.0        0.32   \n",
       "4600         0.00           0.00        0.65        0.0        0.00   \n",
       "\n",
       "      w_freq_over  w_freq_remove  w_freq_internet  w_freq_order  w_freq_mail  \\\n",
       "0            0.00           0.00             0.00          0.00         0.00   \n",
       "1            0.28           0.21             0.07          0.00         0.94   \n",
       "2            0.19           0.19             0.12          0.64         0.25   \n",
       "3            0.00           0.31             0.63          0.31         0.63   \n",
       "4            0.00           0.31             0.63          0.31         0.63   \n",
       "...           ...            ...              ...           ...          ...   \n",
       "4596         0.31           0.00             0.00          0.00         0.00   \n",
       "4597         0.00           0.00             0.00          0.00         0.00   \n",
       "4598         0.00           0.00             0.00          0.00         0.00   \n",
       "4599         0.00           0.00             0.00          0.00         0.00   \n",
       "4600         0.00           0.00             0.00          0.00         0.00   \n",
       "\n",
       "      ...  c_freq_;  c_freq_(  c_freq_[  c_freq_!  c_freq_$  c_freq_#  \\\n",
       "0     ...     0.000     0.000       0.0     0.778     0.000     0.000   \n",
       "1     ...     0.000     0.132       0.0     0.372     0.180     0.048   \n",
       "2     ...     0.010     0.143       0.0     0.276     0.184     0.010   \n",
       "3     ...     0.000     0.137       0.0     0.137     0.000     0.000   \n",
       "4     ...     0.000     0.135       0.0     0.135     0.000     0.000   \n",
       "...   ...       ...       ...       ...       ...       ...       ...   \n",
       "4596  ...     0.000     0.232       0.0     0.000     0.000     0.000   \n",
       "4597  ...     0.000     0.000       0.0     0.353     0.000     0.000   \n",
       "4598  ...     0.102     0.718       0.0     0.000     0.000     0.000   \n",
       "4599  ...     0.000     0.057       0.0     0.000     0.000     0.000   \n",
       "4600  ...     0.000     0.000       0.0     0.125     0.000     0.000   \n",
       "\n",
       "      capital_run_length_average  capital_run_length_longest  \\\n",
       "0                          3.756                          61   \n",
       "1                          5.114                         101   \n",
       "2                          9.821                         485   \n",
       "3                          3.537                          40   \n",
       "4                          3.537                          40   \n",
       "...                          ...                         ...   \n",
       "4596                       1.142                           3   \n",
       "4597                       1.555                           4   \n",
       "4598                       1.404                           6   \n",
       "4599                       1.147                           5   \n",
       "4600                       1.250                           5   \n",
       "\n",
       "      capital_run_length_total  Is_Spam  \n",
       "0                          278        1  \n",
       "1                         1028        1  \n",
       "2                         2259        1  \n",
       "3                          191        1  \n",
       "4                          191        1  \n",
       "...                        ...      ...  \n",
       "4596                        88        0  \n",
       "4597                        14        0  \n",
       "4598                       118        0  \n",
       "4599                        78        0  \n",
       "4600                        40        0  \n",
       "\n",
       "[4601 rows x 58 columns]"
      ]
     },
     "execution_count": 4,
     "metadata": {},
     "output_type": "execute_result"
    }
   ],
   "source": [
    "df"
   ]
  },
  {
   "cell_type": "code",
   "execution_count": 5,
   "id": "fb97c4e3",
   "metadata": {},
   "outputs": [
    {
     "data": {
      "text/html": [
       "<div>\n",
       "<style scoped>\n",
       "    .dataframe tbody tr th:only-of-type {\n",
       "        vertical-align: middle;\n",
       "    }\n",
       "\n",
       "    .dataframe tbody tr th {\n",
       "        vertical-align: top;\n",
       "    }\n",
       "\n",
       "    .dataframe thead th {\n",
       "        text-align: right;\n",
       "    }\n",
       "</style>\n",
       "<table border=\"1\" class=\"dataframe\">\n",
       "  <thead>\n",
       "    <tr style=\"text-align: right;\">\n",
       "      <th></th>\n",
       "      <th>w_freq_make</th>\n",
       "      <th>w_freq_adress</th>\n",
       "      <th>w_freq_all</th>\n",
       "      <th>w_freq_3d</th>\n",
       "      <th>w_freq_our</th>\n",
       "      <th>w_freq_over</th>\n",
       "      <th>w_freq_remove</th>\n",
       "      <th>w_freq_internet</th>\n",
       "      <th>w_freq_order</th>\n",
       "      <th>w_freq_mail</th>\n",
       "      <th>...</th>\n",
       "      <th>c_freq_;</th>\n",
       "      <th>c_freq_(</th>\n",
       "      <th>c_freq_[</th>\n",
       "      <th>c_freq_!</th>\n",
       "      <th>c_freq_$</th>\n",
       "      <th>c_freq_#</th>\n",
       "      <th>capital_run_length_average</th>\n",
       "      <th>capital_run_length_longest</th>\n",
       "      <th>capital_run_length_total</th>\n",
       "      <th>Is_Spam</th>\n",
       "    </tr>\n",
       "  </thead>\n",
       "  <tbody>\n",
       "    <tr>\n",
       "      <th>count</th>\n",
       "      <td>4601.000000</td>\n",
       "      <td>4601.000000</td>\n",
       "      <td>4601.000000</td>\n",
       "      <td>4601.000000</td>\n",
       "      <td>4601.000000</td>\n",
       "      <td>4601.000000</td>\n",
       "      <td>4601.000000</td>\n",
       "      <td>4601.000000</td>\n",
       "      <td>4601.000000</td>\n",
       "      <td>4601.000000</td>\n",
       "      <td>...</td>\n",
       "      <td>4601.000000</td>\n",
       "      <td>4601.000000</td>\n",
       "      <td>4601.000000</td>\n",
       "      <td>4601.000000</td>\n",
       "      <td>4601.000000</td>\n",
       "      <td>4601.000000</td>\n",
       "      <td>4601.000000</td>\n",
       "      <td>4601.000000</td>\n",
       "      <td>4601.000000</td>\n",
       "      <td>4601.000000</td>\n",
       "    </tr>\n",
       "    <tr>\n",
       "      <th>mean</th>\n",
       "      <td>0.104553</td>\n",
       "      <td>0.213015</td>\n",
       "      <td>0.280656</td>\n",
       "      <td>0.065425</td>\n",
       "      <td>0.312223</td>\n",
       "      <td>0.095901</td>\n",
       "      <td>0.114208</td>\n",
       "      <td>0.105295</td>\n",
       "      <td>0.090067</td>\n",
       "      <td>0.239413</td>\n",
       "      <td>...</td>\n",
       "      <td>0.038575</td>\n",
       "      <td>0.139030</td>\n",
       "      <td>0.016976</td>\n",
       "      <td>0.269071</td>\n",
       "      <td>0.075811</td>\n",
       "      <td>0.044238</td>\n",
       "      <td>5.191515</td>\n",
       "      <td>52.172789</td>\n",
       "      <td>283.289285</td>\n",
       "      <td>0.394045</td>\n",
       "    </tr>\n",
       "    <tr>\n",
       "      <th>std</th>\n",
       "      <td>0.305358</td>\n",
       "      <td>1.290575</td>\n",
       "      <td>0.504143</td>\n",
       "      <td>1.395151</td>\n",
       "      <td>0.672513</td>\n",
       "      <td>0.273824</td>\n",
       "      <td>0.391441</td>\n",
       "      <td>0.401071</td>\n",
       "      <td>0.278616</td>\n",
       "      <td>0.644755</td>\n",
       "      <td>...</td>\n",
       "      <td>0.243471</td>\n",
       "      <td>0.270355</td>\n",
       "      <td>0.109394</td>\n",
       "      <td>0.815672</td>\n",
       "      <td>0.245882</td>\n",
       "      <td>0.429342</td>\n",
       "      <td>31.729449</td>\n",
       "      <td>194.891310</td>\n",
       "      <td>606.347851</td>\n",
       "      <td>0.488698</td>\n",
       "    </tr>\n",
       "    <tr>\n",
       "      <th>min</th>\n",
       "      <td>0.000000</td>\n",
       "      <td>0.000000</td>\n",
       "      <td>0.000000</td>\n",
       "      <td>0.000000</td>\n",
       "      <td>0.000000</td>\n",
       "      <td>0.000000</td>\n",
       "      <td>0.000000</td>\n",
       "      <td>0.000000</td>\n",
       "      <td>0.000000</td>\n",
       "      <td>0.000000</td>\n",
       "      <td>...</td>\n",
       "      <td>0.000000</td>\n",
       "      <td>0.000000</td>\n",
       "      <td>0.000000</td>\n",
       "      <td>0.000000</td>\n",
       "      <td>0.000000</td>\n",
       "      <td>0.000000</td>\n",
       "      <td>1.000000</td>\n",
       "      <td>1.000000</td>\n",
       "      <td>1.000000</td>\n",
       "      <td>0.000000</td>\n",
       "    </tr>\n",
       "    <tr>\n",
       "      <th>25%</th>\n",
       "      <td>0.000000</td>\n",
       "      <td>0.000000</td>\n",
       "      <td>0.000000</td>\n",
       "      <td>0.000000</td>\n",
       "      <td>0.000000</td>\n",
       "      <td>0.000000</td>\n",
       "      <td>0.000000</td>\n",
       "      <td>0.000000</td>\n",
       "      <td>0.000000</td>\n",
       "      <td>0.000000</td>\n",
       "      <td>...</td>\n",
       "      <td>0.000000</td>\n",
       "      <td>0.000000</td>\n",
       "      <td>0.000000</td>\n",
       "      <td>0.000000</td>\n",
       "      <td>0.000000</td>\n",
       "      <td>0.000000</td>\n",
       "      <td>1.588000</td>\n",
       "      <td>6.000000</td>\n",
       "      <td>35.000000</td>\n",
       "      <td>0.000000</td>\n",
       "    </tr>\n",
       "    <tr>\n",
       "      <th>50%</th>\n",
       "      <td>0.000000</td>\n",
       "      <td>0.000000</td>\n",
       "      <td>0.000000</td>\n",
       "      <td>0.000000</td>\n",
       "      <td>0.000000</td>\n",
       "      <td>0.000000</td>\n",
       "      <td>0.000000</td>\n",
       "      <td>0.000000</td>\n",
       "      <td>0.000000</td>\n",
       "      <td>0.000000</td>\n",
       "      <td>...</td>\n",
       "      <td>0.000000</td>\n",
       "      <td>0.065000</td>\n",
       "      <td>0.000000</td>\n",
       "      <td>0.000000</td>\n",
       "      <td>0.000000</td>\n",
       "      <td>0.000000</td>\n",
       "      <td>2.276000</td>\n",
       "      <td>15.000000</td>\n",
       "      <td>95.000000</td>\n",
       "      <td>0.000000</td>\n",
       "    </tr>\n",
       "    <tr>\n",
       "      <th>75%</th>\n",
       "      <td>0.000000</td>\n",
       "      <td>0.000000</td>\n",
       "      <td>0.420000</td>\n",
       "      <td>0.000000</td>\n",
       "      <td>0.380000</td>\n",
       "      <td>0.000000</td>\n",
       "      <td>0.000000</td>\n",
       "      <td>0.000000</td>\n",
       "      <td>0.000000</td>\n",
       "      <td>0.160000</td>\n",
       "      <td>...</td>\n",
       "      <td>0.000000</td>\n",
       "      <td>0.188000</td>\n",
       "      <td>0.000000</td>\n",
       "      <td>0.315000</td>\n",
       "      <td>0.052000</td>\n",
       "      <td>0.000000</td>\n",
       "      <td>3.706000</td>\n",
       "      <td>43.000000</td>\n",
       "      <td>266.000000</td>\n",
       "      <td>1.000000</td>\n",
       "    </tr>\n",
       "    <tr>\n",
       "      <th>max</th>\n",
       "      <td>4.540000</td>\n",
       "      <td>14.280000</td>\n",
       "      <td>5.100000</td>\n",
       "      <td>42.810000</td>\n",
       "      <td>10.000000</td>\n",
       "      <td>5.880000</td>\n",
       "      <td>7.270000</td>\n",
       "      <td>11.110000</td>\n",
       "      <td>5.260000</td>\n",
       "      <td>18.180000</td>\n",
       "      <td>...</td>\n",
       "      <td>4.385000</td>\n",
       "      <td>9.752000</td>\n",
       "      <td>4.081000</td>\n",
       "      <td>32.478000</td>\n",
       "      <td>6.003000</td>\n",
       "      <td>19.829000</td>\n",
       "      <td>1102.500000</td>\n",
       "      <td>9989.000000</td>\n",
       "      <td>15841.000000</td>\n",
       "      <td>1.000000</td>\n",
       "    </tr>\n",
       "  </tbody>\n",
       "</table>\n",
       "<p>8 rows × 58 columns</p>\n",
       "</div>"
      ],
      "text/plain": [
       "       w_freq_make  w_freq_adress   w_freq_all    w_freq_3d   w_freq_our  \\\n",
       "count  4601.000000    4601.000000  4601.000000  4601.000000  4601.000000   \n",
       "mean      0.104553       0.213015     0.280656     0.065425     0.312223   \n",
       "std       0.305358       1.290575     0.504143     1.395151     0.672513   \n",
       "min       0.000000       0.000000     0.000000     0.000000     0.000000   \n",
       "25%       0.000000       0.000000     0.000000     0.000000     0.000000   \n",
       "50%       0.000000       0.000000     0.000000     0.000000     0.000000   \n",
       "75%       0.000000       0.000000     0.420000     0.000000     0.380000   \n",
       "max       4.540000      14.280000     5.100000    42.810000    10.000000   \n",
       "\n",
       "       w_freq_over  w_freq_remove  w_freq_internet  w_freq_order  w_freq_mail  \\\n",
       "count  4601.000000    4601.000000      4601.000000   4601.000000  4601.000000   \n",
       "mean      0.095901       0.114208         0.105295      0.090067     0.239413   \n",
       "std       0.273824       0.391441         0.401071      0.278616     0.644755   \n",
       "min       0.000000       0.000000         0.000000      0.000000     0.000000   \n",
       "25%       0.000000       0.000000         0.000000      0.000000     0.000000   \n",
       "50%       0.000000       0.000000         0.000000      0.000000     0.000000   \n",
       "75%       0.000000       0.000000         0.000000      0.000000     0.160000   \n",
       "max       5.880000       7.270000        11.110000      5.260000    18.180000   \n",
       "\n",
       "       ...     c_freq_;     c_freq_(     c_freq_[     c_freq_!     c_freq_$  \\\n",
       "count  ...  4601.000000  4601.000000  4601.000000  4601.000000  4601.000000   \n",
       "mean   ...     0.038575     0.139030     0.016976     0.269071     0.075811   \n",
       "std    ...     0.243471     0.270355     0.109394     0.815672     0.245882   \n",
       "min    ...     0.000000     0.000000     0.000000     0.000000     0.000000   \n",
       "25%    ...     0.000000     0.000000     0.000000     0.000000     0.000000   \n",
       "50%    ...     0.000000     0.065000     0.000000     0.000000     0.000000   \n",
       "75%    ...     0.000000     0.188000     0.000000     0.315000     0.052000   \n",
       "max    ...     4.385000     9.752000     4.081000    32.478000     6.003000   \n",
       "\n",
       "          c_freq_#  capital_run_length_average  capital_run_length_longest  \\\n",
       "count  4601.000000                 4601.000000                 4601.000000   \n",
       "mean      0.044238                    5.191515                   52.172789   \n",
       "std       0.429342                   31.729449                  194.891310   \n",
       "min       0.000000                    1.000000                    1.000000   \n",
       "25%       0.000000                    1.588000                    6.000000   \n",
       "50%       0.000000                    2.276000                   15.000000   \n",
       "75%       0.000000                    3.706000                   43.000000   \n",
       "max      19.829000                 1102.500000                 9989.000000   \n",
       "\n",
       "       capital_run_length_total      Is_Spam  \n",
       "count               4601.000000  4601.000000  \n",
       "mean                 283.289285     0.394045  \n",
       "std                  606.347851     0.488698  \n",
       "min                    1.000000     0.000000  \n",
       "25%                   35.000000     0.000000  \n",
       "50%                   95.000000     0.000000  \n",
       "75%                  266.000000     1.000000  \n",
       "max                15841.000000     1.000000  \n",
       "\n",
       "[8 rows x 58 columns]"
      ]
     },
     "execution_count": 5,
     "metadata": {},
     "output_type": "execute_result"
    }
   ],
   "source": [
    "df.describe()\n",
    "# We can see that in our dataset, 39.4% of instances are spam, and we have 4601 instances"
   ]
  },
  {
   "cell_type": "code",
   "execution_count": 15,
   "id": "bbe0fa05",
   "metadata": {},
   "outputs": [
    {
     "name": "stdout",
     "output_type": "stream",
     "text": [
      "                            w_freq_make  w_freq_adress  w_freq_all  w_freq_3d  \\\n",
      "w_freq_make                    1.000000      -0.016759    0.065627   0.013273   \n",
      "w_freq_adress                 -0.016759       1.000000   -0.033526  -0.006923   \n",
      "w_freq_all                     0.065627      -0.033526    1.000000  -0.020246   \n",
      "w_freq_3d                      0.013273      -0.006923   -0.020246   1.000000   \n",
      "w_freq_our                     0.023119      -0.023760    0.077734   0.003238   \n",
      "w_freq_over                    0.059674      -0.024840    0.087564  -0.010014   \n",
      "w_freq_remove                  0.007669       0.003918    0.036677   0.019784   \n",
      "w_freq_internet               -0.003950      -0.016280    0.012003   0.010268   \n",
      "w_freq_order                   0.106263      -0.003826    0.093786  -0.002454   \n",
      "w_freq_mail                    0.041198       0.032962    0.032075  -0.004947   \n",
      "w_freq_receive                 0.188459      -0.006864    0.048254  -0.012976   \n",
      "w_freq_will                    0.105801      -0.040398    0.083210  -0.019221   \n",
      "w_freq_people                  0.066438      -0.018858    0.047593  -0.013199   \n",
      "w_freq_report                  0.036780      -0.009206    0.008552   0.012008   \n",
      "w_freq_adresses                0.028439       0.005330    0.122113   0.002707   \n",
      "w_freq_free                    0.059386      -0.009117    0.063906   0.007432   \n",
      "w_freq_business                0.081928      -0.018370    0.036262   0.003470   \n",
      "w_freq_email                   0.053324       0.033500    0.121923   0.019391   \n",
      "w_freq_you                     0.128243      -0.055476    0.139329  -0.010834   \n",
      "w_freq_credit                  0.021295      -0.015806    0.031111  -0.005381   \n",
      "w_freq_your                    0.197049      -0.018191    0.156651   0.008176   \n",
      "w_freq_font                   -0.024349      -0.008850   -0.035681   0.028102   \n",
      "w_freq_000                     0.134072      -0.020502    0.123671   0.011368   \n",
      "w_freq_money                   0.188155       0.001984    0.041145   0.035360   \n",
      "w_freq_hp                     -0.072504      -0.043483   -0.087924  -0.015181   \n",
      "w_freq_hpl                    -0.061686      -0.038211   -0.062459  -0.013708   \n",
      "w_freq_george                 -0.066424      -0.030307   -0.108886  -0.010684   \n",
      "w_freq_650                    -0.048680      -0.029221   -0.050648  -0.010368   \n",
      "w_freq_lab                    -0.041251      -0.021940   -0.057726  -0.007798   \n",
      "w_freq_labs                   -0.052799      -0.027508   -0.032547  -0.010476   \n",
      "w_freq_telnet                 -0.039066      -0.018097   -0.038927  -0.007529   \n",
      "w_freq_857                    -0.032058      -0.003326   -0.061870  -0.006717   \n",
      "w_freq_data                   -0.041014      -0.024903   -0.054759  -0.008075   \n",
      "w_freq_415                    -0.027690      -0.004303   -0.061706  -0.006729   \n",
      "w_freq_85                     -0.044954      -0.024058   -0.048335  -0.006122   \n",
      "w_freq_technology             -0.054673      -0.028198   -0.046504  -0.006515   \n",
      "w_freq_1999                   -0.057312      -0.024013   -0.067015  -0.007761   \n",
      "w_freq_parts                  -0.007960      -0.008922    0.032407  -0.002669   \n",
      "w_freq_pm                     -0.011134      -0.019124   -0.014809  -0.004602   \n",
      "w_freq_direct                 -0.036095      -0.014821   -0.047066  -0.007643   \n",
      "w_freq_cs                     -0.009703      -0.015420   -0.030956  -0.005670   \n",
      "w_freq_meeting                -0.026070      -0.025177   -0.005811  -0.008095   \n",
      "w_freq_original               -0.024292      -0.002370   -0.044325  -0.009268   \n",
      "w_freq_project                -0.022116      -0.019739   -0.053464  -0.005933   \n",
      "w_freq_re                     -0.037105      -0.016418   -0.050664  -0.012957   \n",
      "w_freq_edu                    -0.034056      -0.023858   -0.056655  -0.009181   \n",
      "w_freq_table                  -0.000953      -0.009818    0.029339  -0.003348   \n",
      "w_freq_conference             -0.017755      -0.015747   -0.026344  -0.001924   \n",
      "c_freq_;                      -0.026505      -0.007282   -0.033213  -0.000591   \n",
      "c_freq_(                      -0.021196      -0.049837   -0.016495  -0.012370   \n",
      "c_freq_[                      -0.033301      -0.018527   -0.033120  -0.007148   \n",
      "c_freq_!                       0.058292      -0.014461    0.108140  -0.003138   \n",
      "c_freq_$                       0.117419      -0.009605    0.087618   0.010862   \n",
      "c_freq_#                      -0.008844       0.001946   -0.003336  -0.000298   \n",
      "capital_run_length_average     0.044491       0.002083    0.097398   0.005260   \n",
      "capital_run_length_longest     0.061382       0.000271    0.107463   0.022081   \n",
      "capital_run_length_total       0.089165      -0.022680    0.070114   0.021369   \n",
      "Is_Spam                        0.126208      -0.030224    0.196988   0.057371   \n",
      "\n",
      "                            w_freq_our  w_freq_over  w_freq_remove  \\\n",
      "w_freq_make                   0.023119     0.059674       0.007669   \n",
      "w_freq_adress                -0.023760    -0.024840       0.003918   \n",
      "w_freq_all                    0.077734     0.087564       0.036677   \n",
      "w_freq_3d                     0.003238    -0.010014       0.019784   \n",
      "w_freq_our                    1.000000     0.054054       0.147336   \n",
      "w_freq_over                   0.054054     1.000000       0.061163   \n",
      "w_freq_remove                 0.147336     0.061163       1.000000   \n",
      "w_freq_internet               0.029598     0.079561       0.044545   \n",
      "w_freq_order                  0.020823     0.117438       0.050786   \n",
      "w_freq_mail                   0.034495     0.013897       0.056809   \n",
      "w_freq_receive                0.068382     0.053900       0.159578   \n",
      "w_freq_will                   0.066788     0.009264      -0.001461   \n",
      "w_freq_people                 0.031126     0.077631       0.013295   \n",
      "w_freq_report                 0.003445     0.009673      -0.022723   \n",
      "w_freq_adresses               0.056177     0.173066       0.042904   \n",
      "w_freq_free                   0.083024     0.019865       0.128436   \n",
      "w_freq_business               0.143443     0.064137       0.187981   \n",
      "w_freq_email                  0.062344     0.078350       0.122011   \n",
      "w_freq_you                    0.098510     0.095505       0.111792   \n",
      "w_freq_credit                 0.031526     0.058979       0.046134   \n",
      "w_freq_your                   0.136605     0.106833       0.130794   \n",
      "w_freq_font                  -0.020207     0.007956      -0.002093   \n",
      "w_freq_000                    0.070037     0.211455       0.064795   \n",
      "w_freq_money                  0.000039     0.059329       0.030575   \n",
      "w_freq_hp                    -0.072502    -0.084402      -0.089494   \n",
      "w_freq_hpl                   -0.075456    -0.087271      -0.080330   \n",
      "w_freq_george                -0.088011    -0.069051      -0.065893   \n",
      "w_freq_650                   -0.061501    -0.066223      -0.066947   \n",
      "w_freq_lab                    0.032048    -0.048673      -0.048482   \n",
      "w_freq_labs                  -0.052066    -0.048127      -0.058101   \n",
      "w_freq_telnet                -0.042535    -0.046383      -0.046280   \n",
      "w_freq_857                   -0.026748    -0.036835      -0.040538   \n",
      "w_freq_data                  -0.031998    -0.034164      -0.041372   \n",
      "w_freq_415                   -0.026960    -0.037315      -0.040910   \n",
      "w_freq_85                    -0.049732    -0.054315      -0.053202   \n",
      "w_freq_technology            -0.048844    -0.052819      -0.053978   \n",
      "w_freq_1999                  -0.072599    -0.057465      -0.052035   \n",
      "w_freq_parts                  0.130812    -0.017918      -0.014781   \n",
      "w_freq_pm                    -0.042044    -0.047619      -0.046978   \n",
      "w_freq_direct                -0.021442    -0.029866      -0.022121   \n",
      "w_freq_cs                    -0.047505    -0.029457      -0.033120   \n",
      "w_freq_meeting                0.115041    -0.054812      -0.049664   \n",
      "w_freq_original              -0.048879    -0.030616      -0.049079   \n",
      "w_freq_project                0.015234    -0.028826      -0.034461   \n",
      "w_freq_re                    -0.042336    -0.053637      -0.050811   \n",
      "w_freq_edu                   -0.077986    -0.033046      -0.056166   \n",
      "w_freq_table                 -0.026900    -0.014343      -0.017512   \n",
      "w_freq_conference            -0.032005    -0.031693      -0.031408   \n",
      "c_freq_;                     -0.032759    -0.019119      -0.033089   \n",
      "c_freq_(                     -0.046361    -0.008705      -0.051885   \n",
      "c_freq_[                     -0.026390    -0.015133      -0.027653   \n",
      "c_freq_!                      0.025509     0.065043       0.053706   \n",
      "c_freq_$                      0.041582     0.105692       0.070127   \n",
      "c_freq_#                      0.002016     0.019894       0.046612   \n",
      "capital_run_length_average    0.052662    -0.010278       0.041565   \n",
      "capital_run_length_longest    0.052290     0.090172       0.059677   \n",
      "capital_run_length_total      0.002492     0.082089      -0.008344   \n",
      "Is_Spam                       0.241920     0.232604       0.332117   \n",
      "\n",
      "                            w_freq_internet  w_freq_order  w_freq_mail  ...  \\\n",
      "w_freq_make                       -0.003950      0.106263     0.041198  ...   \n",
      "w_freq_adress                     -0.016280     -0.003826     0.032962  ...   \n",
      "w_freq_all                         0.012003      0.093786     0.032075  ...   \n",
      "w_freq_3d                          0.010268     -0.002454    -0.004947  ...   \n",
      "w_freq_our                         0.029598      0.020823     0.034495  ...   \n",
      "w_freq_over                        0.079561      0.117438     0.013897  ...   \n",
      "w_freq_remove                      0.044545      0.050786     0.056809  ...   \n",
      "w_freq_internet                    1.000000      0.105302     0.083129  ...   \n",
      "w_freq_order                       0.105302      1.000000     0.130624  ...   \n",
      "w_freq_mail                        0.083129      0.130624     1.000000  ...   \n",
      "w_freq_receive                     0.128495      0.137760     0.125319  ...   \n",
      "w_freq_will                       -0.002973      0.030344     0.071157  ...   \n",
      "w_freq_people                      0.026274      0.034738     0.045737  ...   \n",
      "w_freq_report                      0.012426      0.066840     0.017901  ...   \n",
      "w_freq_adresses                    0.072782      0.238436     0.160543  ...   \n",
      "w_freq_free                        0.051115      0.008269     0.025601  ...   \n",
      "w_freq_business                    0.216422      0.158390     0.081363  ...   \n",
      "w_freq_email                       0.037738      0.098804     0.035977  ...   \n",
      "w_freq_you                         0.020641      0.039017     0.093509  ...   \n",
      "w_freq_credit                      0.109163      0.123217     0.030859  ...   \n",
      "w_freq_your                        0.156905      0.159112     0.098072  ...   \n",
      "w_freq_font                       -0.016192     -0.019648     0.008200  ...   \n",
      "w_freq_000                         0.089226      0.126800     0.096809  ...   \n",
      "w_freq_money                       0.034127      0.099461     0.052129  ...   \n",
      "w_freq_hp                         -0.053038     -0.069931    -0.033534  ...   \n",
      "w_freq_hpl                        -0.041450     -0.049775    -0.013045  ...   \n",
      "w_freq_george                     -0.057189     -0.064608    -0.067817  ...   \n",
      "w_freq_650                        -0.049988     -0.056764     0.019356  ...   \n",
      "w_freq_lab                        -0.037047     -0.044840    -0.026903  ...   \n",
      "w_freq_labs                       -0.043405     -0.043643     0.008677  ...   \n",
      "w_freq_telnet                     -0.035816     -0.040158    -0.024423  ...   \n",
      "w_freq_857                        -0.034276     -0.033984    -0.015137  ...   \n",
      "w_freq_data                       -0.039220     -0.014403    -0.035366  ...   \n",
      "w_freq_415                        -0.034811     -0.033601    -0.014434  ...   \n",
      "w_freq_85                         -0.035174     -0.041847    -0.020092  ...   \n",
      "w_freq_technology                 -0.033747     -0.056270    -0.016955  ...   \n",
      "w_freq_1999                       -0.017466     -0.033244    -0.004944  ...   \n",
      "w_freq_parts                      -0.012119     -0.002216    -0.017950  ...   \n",
      "w_freq_pm                         -0.030392     -0.040844    -0.016091  ...   \n",
      "w_freq_direct                     -0.005988     -0.009867     0.004163  ...   \n",
      "w_freq_cs                         -0.003884     -0.035177    -0.025084  ...   \n",
      "w_freq_meeting                    -0.043626     -0.048223    -0.054467  ...   \n",
      "w_freq_original                   -0.004542     -0.034190     0.023200  ...   \n",
      "w_freq_project                    -0.030134     -0.035159    -0.026654  ...   \n",
      "w_freq_re                         -0.002423     -0.075558    -0.032065  ...   \n",
      "w_freq_edu                        -0.037916     -0.056817    -0.030326  ...   \n",
      "w_freq_table                      -0.006397      0.007521    -0.015546  ...   \n",
      "w_freq_conference                 -0.021224     -0.026017    -0.016842  ...   \n",
      "c_freq_;                          -0.027432     -0.014646     0.011945  ...   \n",
      "c_freq_(                          -0.032494     -0.031003     0.003936  ...   \n",
      "c_freq_[                          -0.019548      0.013601     0.007357  ...   \n",
      "c_freq_!                           0.031454      0.043639     0.036737  ...   \n",
      "c_freq_$                           0.057910      0.149365     0.075786  ...   \n",
      "c_freq_#                          -0.008012     -0.000522     0.044830  ...   \n",
      "capital_run_length_average         0.011254      0.111308     0.073677  ...   \n",
      "capital_run_length_longest         0.037575      0.189247     0.103308  ...   \n",
      "capital_run_length_total           0.040252      0.248724     0.087273  ...   \n",
      "Is_Spam                            0.206808      0.231551     0.138962  ...   \n",
      "\n",
      "                            c_freq_;  c_freq_(  c_freq_[  c_freq_!  c_freq_$  \\\n",
      "w_freq_make                -0.026505 -0.021196 -0.033301  0.058292  0.117419   \n",
      "w_freq_adress              -0.007282 -0.049837 -0.018527 -0.014461 -0.009605   \n",
      "w_freq_all                 -0.033213 -0.016495 -0.033120  0.108140  0.087618   \n",
      "w_freq_3d                  -0.000591 -0.012370 -0.007148 -0.003138  0.010862   \n",
      "w_freq_our                 -0.032759 -0.046361 -0.026390  0.025509  0.041582   \n",
      "w_freq_over                -0.019119 -0.008705 -0.015133  0.065043  0.105692   \n",
      "w_freq_remove              -0.033089 -0.051885 -0.027653  0.053706  0.070127   \n",
      "w_freq_internet            -0.027432 -0.032494 -0.019548  0.031454  0.057910   \n",
      "w_freq_order               -0.014646 -0.031003  0.013601  0.043639  0.149365   \n",
      "w_freq_mail                 0.011945  0.003936  0.007357  0.036737  0.075786   \n",
      "w_freq_receive             -0.032410 -0.055089 -0.025183  0.024992  0.070227   \n",
      "w_freq_will                -0.027711 -0.030940 -0.044966  0.013369  0.016723   \n",
      "w_freq_people              -0.023445 -0.051151 -0.028283  0.040737  0.205905   \n",
      "w_freq_report              -0.019045 -0.005804 -0.014349 -0.008499  0.080953   \n",
      "w_freq_adresses            -0.018277 -0.002551 -0.003111  0.018607  0.123854   \n",
      "w_freq_free                -0.026841 -0.046578 -0.029560  0.104261  0.049953   \n",
      "w_freq_business            -0.031542 -0.035897 -0.036691  0.077049  0.098323   \n",
      "w_freq_email               -0.039519 -0.035897 -0.017439  0.039350  0.063872   \n",
      "w_freq_you                 -0.044314 -0.128882 -0.063826  0.153381  0.091470   \n",
      "w_freq_credit              -0.020851 -0.021431 -0.012071  0.048350  0.034948   \n",
      "w_freq_your                -0.058660 -0.085181 -0.045469  0.084017  0.141649   \n",
      "w_freq_font                 0.416608 -0.046244 -0.001137 -0.004838 -0.011036   \n",
      "w_freq_000                 -0.027362 -0.033174 -0.000467  0.070103  0.310971   \n",
      "w_freq_money               -0.019139 -0.033113 -0.020798  0.051076  0.104691   \n",
      "w_freq_hp                   0.029181  0.136979  0.039723 -0.090862 -0.086634   \n",
      "w_freq_hpl                  0.013558  0.144771  0.064349 -0.078367 -0.081198   \n",
      "w_freq_george              -0.022724 -0.028748 -0.017676 -0.067500 -0.068728   \n",
      "w_freq_650                 -0.025020  0.313835  0.031979 -0.063495 -0.061441   \n",
      "w_freq_lab                 -0.018502  0.158593  0.006575 -0.042330 -0.050231   \n",
      "w_freq_labs                -0.019845  0.224192  0.004667 -0.061694 -0.065475   \n",
      "w_freq_telnet              -0.016280  0.233392  0.010718 -0.045273 -0.047475   \n",
      "w_freq_857                 -0.008853  0.304679  0.013805 -0.041529 -0.043484   \n",
      "w_freq_data                -0.005691  0.028655  0.113105 -0.048493 -0.048101   \n",
      "w_freq_415                 -0.009290  0.303606  0.013687 -0.038626 -0.039844   \n",
      "w_freq_85                  -0.021592  0.200713  0.034435 -0.048822 -0.048947   \n",
      "w_freq_technology          -0.018947  0.245454  0.001017 -0.060379 -0.057933   \n",
      "w_freq_1999                 0.052138  0.107674  0.073010 -0.054578 -0.063895   \n",
      "w_freq_parts                0.007886 -0.010430  0.001767 -0.015126 -0.012909   \n",
      "w_freq_pm                   0.034492  0.107928  0.038474 -0.024846 -0.044513   \n",
      "w_freq_direct              -0.018693  0.268701  0.014065 -0.032509 -0.016724   \n",
      "w_freq_cs                   0.053034  0.017584  0.034408 -0.025911 -0.036610   \n",
      "w_freq_meeting             -0.007817 -0.013082  0.011091 -0.038094 -0.043653   \n",
      "w_freq_original             0.015385  0.060568  0.115548 -0.049362 -0.054698   \n",
      "w_freq_project             -0.007257 -0.003203 -0.010733 -0.033837 -0.036241   \n",
      "w_freq_re                  -0.024698  0.001413  0.008838  0.067569 -0.049367   \n",
      "w_freq_edu                  0.015382  0.014763 -0.003168 -0.028845 -0.050109   \n",
      "w_freq_table                0.000995 -0.003085 -0.004592 -0.017679 -0.018549   \n",
      "w_freq_conference          -0.002290 -0.012795 -0.006310 -0.026576 -0.030751   \n",
      "c_freq_;                    1.000000  0.049124  0.009070  0.020539  0.006392   \n",
      "c_freq_(                    0.049124  1.000000  0.022316 -0.030354  0.044722   \n",
      "c_freq_[                    0.009070  0.022316  1.000000 -0.031769 -0.026400   \n",
      "c_freq_!                    0.020539 -0.030354 -0.031769  1.000000  0.142913   \n",
      "c_freq_$                    0.006392  0.044722 -0.026400  0.142913  1.000000   \n",
      "c_freq_#                    0.055057  0.023322 -0.006863  0.020924  0.012613   \n",
      "capital_run_length_average  0.003443  0.034365 -0.008180  0.054308  0.079998   \n",
      "capital_run_length_longest  0.040829  0.370963 -0.013994  0.077392  0.183144   \n",
      "capital_run_length_total    0.055298  0.112209  0.006016  0.036321  0.201948   \n",
      "Is_Spam                    -0.059630 -0.089672 -0.064709  0.241888  0.323629   \n",
      "\n",
      "                            c_freq_#  capital_run_length_average  \\\n",
      "w_freq_make                -0.008844                    0.044491   \n",
      "w_freq_adress               0.001946                    0.002083   \n",
      "w_freq_all                 -0.003336                    0.097398   \n",
      "w_freq_3d                  -0.000298                    0.005260   \n",
      "w_freq_our                  0.002016                    0.052662   \n",
      "w_freq_over                 0.019894                   -0.010278   \n",
      "w_freq_remove               0.046612                    0.041565   \n",
      "w_freq_internet            -0.008012                    0.011254   \n",
      "w_freq_order               -0.000522                    0.111308   \n",
      "w_freq_mail                 0.044830                    0.073677   \n",
      "w_freq_receive              0.001126                    0.029258   \n",
      "w_freq_will                -0.030445                   -0.010002   \n",
      "w_freq_people              -0.014195                   -0.013446   \n",
      "w_freq_report               0.006545                    0.003023   \n",
      "w_freq_adresses            -0.005446                    0.017383   \n",
      "w_freq_free                 0.035534                    0.015036   \n",
      "w_freq_business            -0.000466                    0.038126   \n",
      "w_freq_email                0.020978                   -0.007979   \n",
      "w_freq_you                 -0.002434                   -0.030592   \n",
      "w_freq_credit               0.007214                    0.067140   \n",
      "w_freq_your                -0.004355                    0.041066   \n",
      "w_freq_font                 0.184428                    0.021497   \n",
      "w_freq_000                  0.020140                    0.008372   \n",
      "w_freq_money                0.000703                    0.007681   \n",
      "w_freq_hp                   0.058780                   -0.017285   \n",
      "w_freq_hpl                 -0.020691                   -0.024234   \n",
      "w_freq_george              -0.020561                   -0.025504   \n",
      "w_freq_650                 -0.011438                   -0.013757   \n",
      "w_freq_lab                  0.002076                   -0.014936   \n",
      "w_freq_labs                 0.082593                   -0.016599   \n",
      "w_freq_telnet               0.000225                   -0.010897   \n",
      "w_freq_857                 -0.010735                   -0.010498   \n",
      "w_freq_data                -0.009928                   -0.015509   \n",
      "w_freq_415                 -0.010635                   -0.002404   \n",
      "w_freq_85                  -0.009650                   -0.013707   \n",
      "w_freq_technology           0.006452                   -0.019185   \n",
      "w_freq_1999                -0.022637                   -0.014423   \n",
      "w_freq_parts               -0.003627                   -0.006012   \n",
      "w_freq_pm                  -0.011326                   -0.014032   \n",
      "w_freq_direct              -0.010661                   -0.003945   \n",
      "w_freq_cs                  -0.011755                   -0.008895   \n",
      "w_freq_meeting             -0.003873                   -0.017899   \n",
      "w_freq_original            -0.013925                   -0.017681   \n",
      "w_freq_project              0.001167                   -0.013157   \n",
      "w_freq_re                  -0.023878                   -0.026979   \n",
      "w_freq_edu                 -0.015040                   -0.017408   \n",
      "w_freq_table                0.000308                   -0.006465   \n",
      "w_freq_conference          -0.008575                   -0.008114   \n",
      "c_freq_;                    0.055057                    0.003443   \n",
      "c_freq_(                    0.023322                    0.034365   \n",
      "c_freq_[                   -0.006863                   -0.008180   \n",
      "c_freq_!                    0.020924                    0.054308   \n",
      "c_freq_$                    0.012613                    0.079998   \n",
      "c_freq_#                    1.000000                    0.013497   \n",
      "capital_run_length_average  0.013497                    1.000000   \n",
      "capital_run_length_longest  0.061657                    0.492638   \n",
      "capital_run_length_total    0.042568                    0.162314   \n",
      "Is_Spam                     0.065067                    0.109999   \n",
      "\n",
      "                            capital_run_length_longest  \\\n",
      "w_freq_make                                   0.061382   \n",
      "w_freq_adress                                 0.000271   \n",
      "w_freq_all                                    0.107463   \n",
      "w_freq_3d                                     0.022081   \n",
      "w_freq_our                                    0.052290   \n",
      "w_freq_over                                   0.090172   \n",
      "w_freq_remove                                 0.059677   \n",
      "w_freq_internet                               0.037575   \n",
      "w_freq_order                                  0.189247   \n",
      "w_freq_mail                                   0.103308   \n",
      "w_freq_receive                                0.086791   \n",
      "w_freq_will                                   0.021774   \n",
      "w_freq_people                                 0.041962   \n",
      "w_freq_report                                 0.060993   \n",
      "w_freq_adresses                               0.213992   \n",
      "w_freq_free                                   0.026528   \n",
      "w_freq_business                               0.062672   \n",
      "w_freq_email                                  0.075122   \n",
      "w_freq_you                                    0.006530   \n",
      "w_freq_credit                                 0.099463   \n",
      "w_freq_your                                   0.085321   \n",
      "w_freq_font                                   0.027775   \n",
      "w_freq_000                                    0.123036   \n",
      "w_freq_money                                  0.044870   \n",
      "w_freq_hp                                    -0.051206   \n",
      "w_freq_hpl                                   -0.051806   \n",
      "w_freq_george                                -0.054400   \n",
      "w_freq_650                                   -0.038772   \n",
      "w_freq_lab                                   -0.034733   \n",
      "w_freq_labs                                  -0.039001   \n",
      "w_freq_telnet                                -0.027449   \n",
      "w_freq_857                                   -0.027732   \n",
      "w_freq_data                                  -0.025919   \n",
      "w_freq_415                                   -0.024532   \n",
      "w_freq_85                                    -0.030236   \n",
      "w_freq_technology                            -0.038100   \n",
      "w_freq_1999                                  -0.033204   \n",
      "w_freq_parts                                 -0.009487   \n",
      "w_freq_pm                                    -0.029229   \n",
      "w_freq_direct                                -0.004835   \n",
      "w_freq_cs                                    -0.023658   \n",
      "w_freq_meeting                               -0.034585   \n",
      "w_freq_original                              -0.017279   \n",
      "w_freq_project                               -0.025918   \n",
      "w_freq_re                                    -0.051858   \n",
      "w_freq_edu                                   -0.033365   \n",
      "w_freq_table                                 -0.010154   \n",
      "w_freq_conference                            -0.016894   \n",
      "c_freq_;                                      0.040829   \n",
      "c_freq_(                                      0.370963   \n",
      "c_freq_[                                     -0.013994   \n",
      "c_freq_!                                      0.077392   \n",
      "c_freq_$                                      0.183144   \n",
      "c_freq_#                                      0.061657   \n",
      "capital_run_length_average                    0.492638   \n",
      "capital_run_length_longest                    1.000000   \n",
      "capital_run_length_total                      0.475486   \n",
      "Is_Spam                                       0.216097   \n",
      "\n",
      "                            capital_run_length_total   Is_Spam  \n",
      "w_freq_make                                 0.089165  0.126208  \n",
      "w_freq_adress                              -0.022680 -0.030224  \n",
      "w_freq_all                                  0.070114  0.196988  \n",
      "w_freq_3d                                   0.021369  0.057371  \n",
      "w_freq_our                                  0.002492  0.241920  \n",
      "w_freq_over                                 0.082089  0.232604  \n",
      "w_freq_remove                              -0.008344  0.332117  \n",
      "w_freq_internet                             0.040252  0.206808  \n",
      "w_freq_order                                0.248724  0.231551  \n",
      "w_freq_mail                                 0.087273  0.138962  \n",
      "w_freq_receive                              0.115055  0.234529  \n",
      "w_freq_will                                 0.020076  0.007741  \n",
      "w_freq_people                               0.105150  0.132927  \n",
      "w_freq_report                               0.169257  0.060027  \n",
      "w_freq_adresses                             0.151626  0.195902  \n",
      "w_freq_free                                 0.003007  0.263215  \n",
      "w_freq_business                             0.064261  0.263204  \n",
      "w_freq_email                                0.046364  0.204208  \n",
      "w_freq_you                                 -0.007307  0.273651  \n",
      "w_freq_credit                               0.075751  0.189761  \n",
      "w_freq_your                                 0.051797  0.383234  \n",
      "w_freq_font                                 0.103954  0.091860  \n",
      "w_freq_000                                  0.165977  0.334787  \n",
      "w_freq_money                                0.080993  0.216111  \n",
      "w_freq_hp                                  -0.043267 -0.256723  \n",
      "w_freq_hpl                                 -0.059601 -0.232968  \n",
      "w_freq_george                              -0.096548 -0.183404  \n",
      "w_freq_650                                 -0.067596 -0.158800  \n",
      "w_freq_lab                                 -0.056628 -0.133523  \n",
      "w_freq_labs                                -0.064115 -0.171095  \n",
      "w_freq_telnet                              -0.045923 -0.126912  \n",
      "w_freq_857                                 -0.046796 -0.114214  \n",
      "w_freq_data                                 0.006919 -0.119931  \n",
      "w_freq_415                                 -0.044529 -0.112754  \n",
      "w_freq_85                                  -0.045963 -0.149225  \n",
      "w_freq_technology                          -0.045792 -0.136134  \n",
      "w_freq_1999                                -0.003490 -0.178045  \n",
      "w_freq_parts                               -0.013897 -0.031035  \n",
      "w_freq_pm                                  -0.049256 -0.122831  \n",
      "w_freq_direct                              -0.028806 -0.064801  \n",
      "w_freq_cs                                  -0.026373 -0.097375  \n",
      "w_freq_meeting                             -0.056511 -0.136615  \n",
      "w_freq_original                            -0.036529 -0.135664  \n",
      "w_freq_project                             -0.040661 -0.094594  \n",
      "w_freq_re                                  -0.095444 -0.140408  \n",
      "w_freq_edu                                 -0.046371 -0.146138  \n",
      "w_freq_table                                0.005158 -0.044679  \n",
      "w_freq_conference                          -0.010033 -0.084020  \n",
      "c_freq_;                                    0.055298 -0.059630  \n",
      "c_freq_(                                    0.112209 -0.089672  \n",
      "c_freq_[                                    0.006016 -0.064709  \n",
      "c_freq_!                                    0.036321  0.241888  \n",
      "c_freq_$                                    0.201948  0.323629  \n",
      "c_freq_#                                    0.042568  0.065067  \n",
      "capital_run_length_average                  0.162314  0.109999  \n",
      "capital_run_length_longest                  0.475486  0.216097  \n",
      "capital_run_length_total                    1.000000  0.249164  \n",
      "Is_Spam                                     0.249164  1.000000  \n",
      "\n",
      "[58 rows x 58 columns]\n"
     ]
    }
   ],
   "source": [
    "print(df.corr())"
   ]
  },
  {
   "cell_type": "markdown",
   "id": "8aba0bba",
   "metadata": {},
   "source": [
    "To visualize this dataset, we are going to compare the data by categories : the ones who comes from a spam and the ones who don't come from a spam"
   ]
  },
  {
   "cell_type": "code",
   "execution_count": 60,
   "id": "b6b22fd6",
   "metadata": {
    "scrolled": false
   },
   "outputs": [
    {
     "data": {
      "image/png": "[encoded data removed]",
      "text/plain": [
       "<Figure size 1440x720 with 2 Axes>"
      ]
     },
     "metadata": {
      "needs_background": "light"
     },
     "output_type": "display_data"
    }
   ],
   "source": [
    "fig, axes = plt.subplots(2,1)\n",
    "fig.set_size_inches(20,10)\n",
    "data = [df[df['Is_Spam']==0].capital_run_length_average, df[df['Is_Spam']==1].capital_run_length_average]\n",
    "axes[0].boxplot(data, vert=0)\n",
    "axes[1].boxplot(data, vert=0, patch_artist=True)\n",
    "axes[1].set_xlim(xmin=0.0, xmax=10)\n",
    "plt.show()"
   ]
  },
  {
   "cell_type": "markdown",
   "id": "9938bc4a",
   "metadata": {},
   "source": [
    "These two figures are the boxplot of the average length of capital letters sequences. The second boxplot is the same than the first one but with a 100 time zoom. \n",
    "We can se through these boxplots, than there is a lot of aberrant data in this dataset. We can also suppose that if the average length sequence of capital letters is big, there is more chances for the mail to be a spam. "
   ]
  },
  {
   "cell_type": "code",
   "execution_count": 69,
   "id": "49e194f8",
   "metadata": {},
   "outputs": [
    {
     "data": {
      "image/png": "[encoded data removed]",
      "text/plain": [
       "<Figure size 1440x720 with 2 Axes>"
      ]
     },
     "metadata": {
      "needs_background": "light"
     },
     "output_type": "display_data"
    }
   ],
   "source": [
    "fig, axes = plt.subplots(2,1)\n",
    "fig.set_size_inches(20,10)\n",
    "data = [df[df['Is_Spam']==0].capital_run_length_longest, df[df['Is_Spam']==1].capital_run_length_longest]\n",
    "axes[0].boxplot(data, vert=0, patch_artist=True)\n",
    "axes[1].boxplot(data, vert=0, patch_artist=True)\n",
    "axes[1].set_xlim(xmin=0.0, xmax=200)\n",
    "plt.show()"
   ]
  },
  {
   "cell_type": "markdown",
   "id": "5fb765bc",
   "metadata": {},
   "source": [
    "These two figures are the boxplot of the longuest sequence of capital letters. The second boxplot is the same than the first one but with a 50 time zoom. We can se through these boxplots, than there is a lot of aberrant data in this dataset. We can also suppose that if the longuest sequence of capital letters is very big, there is more chances for the mail to be a spam."
   ]
  },
  {
   "cell_type": "code",
   "execution_count": 73,
   "id": "439f8964",
   "metadata": {
    "scrolled": true
   },
   "outputs": [
    {
     "data": {
      "image/png": "[encoded data removed]",
      "text/plain": [
       "<Figure size 1440x720 with 2 Axes>"
      ]
     },
     "metadata": {
      "needs_background": "light"
     },
     "output_type": "display_data"
    }
   ],
   "source": [
    "fig, axes = plt.subplots(2,1)\n",
    "fig.set_size_inches(20,10)\n",
    "data = [df[df['Is_Spam']==0].capital_run_length_total, df[df['Is_Spam']==1].capital_run_length_total]\n",
    "axes[0].boxplot(data, vert=0, patch_artist=True)\n",
    "axes[1].boxplot(data, vert=0, patch_artist=True)\n",
    "axes[1].set_xlim(xmin=0.0, xmax=1000)\n",
    "axes[0].set_xlim(xmin=0.0, xmax=10000)\n",
    "plt.show()"
   ]
  },
  {
   "cell_type": "markdown",
   "id": "fb08bf7b",
   "metadata": {},
   "source": [
    "These two figures are the boxplot of the sum of capital letters in a mail. The second boxplot is the same than the first one but with a 10 time zoom. We can se through these boxplots, than there is a lot of aberrant data in this dataset. We can also suppose that if the sum of capital letters is very big, there is more chances for the mail to be a spam."
   ]
  },
  {
   "cell_type": "code",
   "execution_count": 116,
   "id": "f88aa4dd",
   "metadata": {},
   "outputs": [
    {
     "data": {
      "text/plain": [
       "<AxesSubplot:xlabel='Is_Spam', ylabel='capital_run_length_total'>"
      ]
     },
     "execution_count": 116,
     "metadata": {},
     "output_type": "execute_result"
    },
    {
     "data": {
      "image/png": "[encoded data removed]",
      "text/plain": [
       "<Figure size 432x288 with 1 Axes>"
      ]
     },
     "metadata": {
      "needs_background": "light"
     },
     "output_type": "display_data"
    }
   ],
   "source": [
    "sns.barplot(data=df, x=df['Is_Spam'], y=df.capital_run_length_total)"
   ]
  },
  {
   "cell_type": "code",
   "execution_count": 112,
   "id": "40957ac6",
   "metadata": {},
   "outputs": [
    {
     "data": {
      "text/plain": [
       "<AxesSubplot:xlabel='Is_Spam', ylabel='capital_run_length_average'>"
      ]
     },
     "execution_count": 112,
     "metadata": {},
     "output_type": "execute_result"
    },
    {
     "data": {
      "image/png": "[encoded data removed]",
      "text/plain": [
       "<Figure size 432x288 with 1 Axes>"
      ]
     },
     "metadata": {
      "needs_background": "light"
     },
     "output_type": "display_data"
    }
   ],
   "source": [
    "sns.barplot(data=df, x=df['Is_Spam'], y=df.capital_run_length_average)"
   ]
  },
  {
   "cell_type": "code",
   "execution_count": 110,
   "id": "1518bc65",
   "metadata": {},
   "outputs": [
    {
     "data": {
      "text/plain": [
       "<AxesSubplot:xlabel='Is_Spam', ylabel='capital_run_length_longest'>"
      ]
     },
     "execution_count": 110,
     "metadata": {},
     "output_type": "execute_result"
    },
    {
     "data": {
      "image/png": "[encoded data removed]",
      "text/plain": [
       "<Figure size 432x288 with 1 Axes>"
      ]
     },
     "metadata": {
      "needs_background": "light"
     },
     "output_type": "display_data"
    }
   ],
   "source": [
    "sns.barplot(data=df, x=df['Is_Spam'], y=df.capital_run_length_longest)"
   ]
  },
  {
   "cell_type": "code",
   "execution_count": 57,
   "id": "14837486",
   "metadata": {
    "scrolled": false
   },
   "outputs": [
    {
     "data": {
      "image/png": "[encoded data removed]",
      "text/plain": [
       "<Figure size 1080x1080 with 6 Axes>"
      ]
     },
     "metadata": {
      "needs_background": "light"
     },
     "output_type": "display_data"
    }
   ],
   "source": [
    "fig, axes = plt.subplots(2,3)\n",
    "fig.set_size_inches(15,15)\n",
    "\n",
    "sns.histplot(data = df, x='w_freq_make', hue = 'Is_Spam', alpha=0.7, ax = axes[0,0], bins = 30)\n",
    "axes[0,0].set_xlim(xmin=0.0, xmax=2)\n",
    "\n",
    "sns.histplot(data = df, x='w_freq_adress', hue = 'Is_Spam', alpha=0.7, ax = axes[0,1], bins = 50)\n",
    "axes[0,1].set_xlim(xmin=0.0, xmax=2)\n",
    "\n",
    "sns.histplot(data = df, x='w_freq_mail', hue = 'Is_Spam', alpha=0.7, ax = axes[0,2], bins = 50)\n",
    "axes[0,2].set_xlim(xmin=0.0, xmax=2.5)\n",
    "\n",
    "sns.histplot(data = df, x='w_freq_remove', hue = 'Is_Spam', alpha=0.7, ax = axes[1,0], bins = 60)\n",
    "axes[1,0].set_xlim(xmin=0.0, xmax=2.5)\n",
    "\n",
    "sns.histplot(data = df, x='c_freq_!', hue = 'Is_Spam', alpha=0.7, ax = axes[1,1], bins = 60)\n",
    "axes[1,1].set_xlim(xmin=0.0, xmax=5)\n",
    "\n",
    "sns.histplot(data = df, x='c_freq_$', hue = 'Is_Spam', alpha=0.7, ax = axes[1,2], bins = 60)\n",
    "axes[1,2].set_xlim(xmin=0.0, xmax=1.5)\n",
    "\n",
    "plt.show()"
   ]
  },
  {
   "cell_type": "markdown",
   "id": "bd9c6af3",
   "metadata": {},
   "source": [
    "These graphs can show us than usually in spams, the frequency of some words or some characters is greater than in non-spam mails."
   ]
  },
  {
   "cell_type": "code",
   "execution_count": 54,
   "id": "98332030",
   "metadata": {},
   "outputs": [
    {
     "data": {
      "text/html": [
       "<div>\n",
       "<style scoped>\n",
       "    .dataframe tbody tr th:only-of-type {\n",
       "        vertical-align: middle;\n",
       "    }\n",
       "\n",
       "    .dataframe tbody tr th {\n",
       "        vertical-align: top;\n",
       "    }\n",
       "\n",
       "    .dataframe thead th {\n",
       "        text-align: right;\n",
       "    }\n",
       "</style>\n",
       "<table border=\"1\" class=\"dataframe\">\n",
       "  <thead>\n",
       "    <tr style=\"text-align: right;\">\n",
       "      <th></th>\n",
       "      <th>w_freq_make</th>\n",
       "      <th>w_freq_adress</th>\n",
       "      <th>w_freq_all</th>\n",
       "      <th>w_freq_3d</th>\n",
       "      <th>w_freq_our</th>\n",
       "      <th>w_freq_over</th>\n",
       "      <th>w_freq_remove</th>\n",
       "      <th>w_freq_internet</th>\n",
       "      <th>w_freq_order</th>\n",
       "      <th>w_freq_mail</th>\n",
       "      <th>...</th>\n",
       "      <th>w_freq_conference</th>\n",
       "      <th>c_freq_;</th>\n",
       "      <th>c_freq_(</th>\n",
       "      <th>c_freq_[</th>\n",
       "      <th>c_freq_!</th>\n",
       "      <th>c_freq_$</th>\n",
       "      <th>c_freq_#</th>\n",
       "      <th>capital_run_length_average</th>\n",
       "      <th>capital_run_length_longest</th>\n",
       "      <th>capital_run_length_total</th>\n",
       "    </tr>\n",
       "    <tr>\n",
       "      <th>Is_Spam</th>\n",
       "      <th></th>\n",
       "      <th></th>\n",
       "      <th></th>\n",
       "      <th></th>\n",
       "      <th></th>\n",
       "      <th></th>\n",
       "      <th></th>\n",
       "      <th></th>\n",
       "      <th></th>\n",
       "      <th></th>\n",
       "      <th></th>\n",
       "      <th></th>\n",
       "      <th></th>\n",
       "      <th></th>\n",
       "      <th></th>\n",
       "      <th></th>\n",
       "      <th></th>\n",
       "      <th></th>\n",
       "      <th></th>\n",
       "      <th></th>\n",
       "      <th></th>\n",
       "    </tr>\n",
       "  </thead>\n",
       "  <tbody>\n",
       "    <tr>\n",
       "      <th>0</th>\n",
       "      <td>0.073479</td>\n",
       "      <td>0.244466</td>\n",
       "      <td>0.200581</td>\n",
       "      <td>0.000886</td>\n",
       "      <td>0.181040</td>\n",
       "      <td>0.044544</td>\n",
       "      <td>0.009383</td>\n",
       "      <td>0.038415</td>\n",
       "      <td>0.038049</td>\n",
       "      <td>0.167170</td>\n",
       "      <td>...</td>\n",
       "      <td>0.051227</td>\n",
       "      <td>0.050281</td>\n",
       "      <td>0.158578</td>\n",
       "      <td>0.022684</td>\n",
       "      <td>0.109984</td>\n",
       "      <td>0.011648</td>\n",
       "      <td>0.021713</td>\n",
       "      <td>2.377301</td>\n",
       "      <td>18.214491</td>\n",
       "      <td>161.470947</td>\n",
       "    </tr>\n",
       "    <tr>\n",
       "      <th>1</th>\n",
       "      <td>0.152339</td>\n",
       "      <td>0.164650</td>\n",
       "      <td>0.403795</td>\n",
       "      <td>0.164672</td>\n",
       "      <td>0.513955</td>\n",
       "      <td>0.174876</td>\n",
       "      <td>0.275405</td>\n",
       "      <td>0.208141</td>\n",
       "      <td>0.170061</td>\n",
       "      <td>0.350507</td>\n",
       "      <td>...</td>\n",
       "      <td>0.002101</td>\n",
       "      <td>0.020573</td>\n",
       "      <td>0.108970</td>\n",
       "      <td>0.008199</td>\n",
       "      <td>0.513713</td>\n",
       "      <td>0.174478</td>\n",
       "      <td>0.078877</td>\n",
       "      <td>9.519165</td>\n",
       "      <td>104.393271</td>\n",
       "      <td>470.619415</td>\n",
       "    </tr>\n",
       "  </tbody>\n",
       "</table>\n",
       "<p>2 rows × 57 columns</p>\n",
       "</div>"
      ],
      "text/plain": [
       "         w_freq_make  w_freq_adress  w_freq_all  w_freq_3d  w_freq_our  \\\n",
       "Is_Spam                                                                  \n",
       "0           0.073479       0.244466    0.200581   0.000886    0.181040   \n",
       "1           0.152339       0.164650    0.403795   0.164672    0.513955   \n",
       "\n",
       "         w_freq_over  w_freq_remove  w_freq_internet  w_freq_order  \\\n",
       "Is_Spam                                                              \n",
       "0           0.044544       0.009383         0.038415      0.038049   \n",
       "1           0.174876       0.275405         0.208141      0.170061   \n",
       "\n",
       "         w_freq_mail  ...  w_freq_conference  c_freq_;  c_freq_(  c_freq_[  \\\n",
       "Is_Spam               ...                                                    \n",
       "0           0.167170  ...           0.051227  0.050281  0.158578  0.022684   \n",
       "1           0.350507  ...           0.002101  0.020573  0.108970  0.008199   \n",
       "\n",
       "         c_freq_!  c_freq_$  c_freq_#  capital_run_length_average  \\\n",
       "Is_Spam                                                             \n",
       "0        0.109984  0.011648  0.021713                    2.377301   \n",
       "1        0.513713  0.174478  0.078877                    9.519165   \n",
       "\n",
       "         capital_run_length_longest  capital_run_length_total  \n",
       "Is_Spam                                                        \n",
       "0                         18.214491                161.470947  \n",
       "1                        104.393271                470.619415  \n",
       "\n",
       "[2 rows x 57 columns]"
      ]
     },
     "execution_count": 54,
     "metadata": {},
     "output_type": "execute_result"
    }
   ],
   "source": [
    "df2 = pd.DataFrame(df.groupby('Is_Spam').mean())\n",
    "df2\n",
    "# dataFrame des moyennes de chaque colonne selon si le mail est un spam ou non"
   ]
  },
  {
   "cell_type": "code",
   "execution_count": 79,
   "id": "8e580ff8",
   "metadata": {},
   "outputs": [
    {
     "data": {
      "image/png": "[encoded data removed]",
      "text/plain": [
       "<Figure size 432x288 with 2 Axes>"
      ]
     },
     "metadata": {
      "needs_background": "light"
     },
     "output_type": "display_data"
    }
   ],
   "source": [
    "col = ['w_freq_3d', 'w_freq_remove', 'w_freq_internet', 'w_freq_order' , 'w_freq_receive']\n",
    "sns.heatmap(df2[col], annot=True, cmap=\"YlGnBu\")\n",
    "plt.show()"
   ]
  },
  {
   "cell_type": "markdown",
   "id": "0d7f91fc",
   "metadata": {},
   "source": [
    "We can see on this heatmap that some words seems to appear at a frequencie 2 time greater in spams than in non-spams."
   ]
  },
  {
   "cell_type": "code",
   "execution_count": 78,
   "id": "d8dc7731",
   "metadata": {},
   "outputs": [
    {
     "data": {
      "image/png": "[encoded data removed]",
      "text/plain": [
       "<Figure size 432x288 with 2 Axes>"
      ]
     },
     "metadata": {
      "needs_background": "light"
     },
     "output_type": "display_data"
    }
   ],
   "source": [
    "col2 = ['w_freq_labs', 'w_freq_lab', 'w_freq_meeting', 'w_freq_project', 'w_freq_conference']\n",
    "sns.heatmap(df2[col2], annot=True, cmap=\"YlGnBu\")\n",
    "plt.show()"
   ]
  },
  {
   "cell_type": "markdown",
   "id": "c11196b0",
   "metadata": {},
   "source": [
    "We can also see here that there are other words that seems to be more commun in non-spam mails. It seems normal since these words belong to the vocabulary of work. "
   ]
  },
  {
   "cell_type": "code",
   "execution_count": 17,
   "id": "c6bd87cf",
   "metadata": {},
   "outputs": [],
   "source": [
    "train, test = train_test_split(df, test_size = 0.3)\n",
    "x_train = np.array(train.drop('Is_Spam', 1))\n",
    "y_train = np.transpose(np.array(train['Is_Spam']))"
   ]
  },
  {
   "cell_type": "code",
   "execution_count": 18,
   "id": "2d393b04",
   "metadata": {},
   "outputs": [
    {
     "name": "stdout",
     "output_type": "stream",
     "text": [
      "(4601, 57)\n"
     ]
    }
   ],
   "source": [
    "x = np.array(df.drop('Is_Spam', 1))\n",
    "print(x.shape)\n",
    "y = np.transpose(np.array(df['Is_Spam']))"
   ]
  },
  {
   "cell_type": "markdown",
   "id": "ea7a6905",
   "metadata": {},
   "source": [
    "# Find the best features in the dataset"
   ]
  },
  {
   "cell_type": "code",
   "execution_count": 23,
   "id": "f2a6f326",
   "metadata": {},
   "outputs": [
    {
     "name": "stdout",
     "output_type": "stream",
     "text": [
      "                         Specs          Score\n",
      "56    capital_run_length_total  370631.554036\n",
      "55  capital_run_length_longest  156384.957205\n",
      "54  capital_run_length_average   10793.626068\n",
      "26               w_freq_george    2286.488273\n",
      "24                   w_freq_hp    1541.169332\n",
      "20                 w_freq_your    1203.031857\n",
      "15                 w_freq_free     873.343010\n",
      "25                  w_freq_hpl     740.079899\n",
      "6                w_freq_remove     680.736206\n",
      "51                    c_freq_!     665.505816\n",
      "18                  w_freq_you     653.322604\n",
      "22                  w_freq_000     622.378273\n",
      "19               w_freq_credit     502.988870\n",
      "45                  w_freq_edu     453.511169\n",
      "3                    w_freq_3d     450.451577\n",
      "23                w_freq_money     446.515782\n",
      "16             w_freq_business     440.695718\n",
      "4                   w_freq_our     389.976584\n",
      "52                    c_freq_$     384.215800\n",
      "41              w_freq_meeting     381.466659\n",
      "21                 w_freq_font     336.968991\n",
      "44                   w_freq_re     308.139862\n",
      "7              w_freq_internet     300.560780\n",
      "17                w_freq_email     292.901365\n",
      "28                  w_freq_lab     291.873529\n",
      "34                   w_freq_85     275.296193\n",
      "29                 w_freq_labs     273.052687\n",
      "27                  w_freq_650     269.515965\n",
      "14             w_freq_adresses     240.384773\n",
      "8                 w_freq_order     212.567537\n",
      "32                 w_freq_data     210.295620\n",
      "43              w_freq_project     201.061889\n",
      "5                  w_freq_over     194.587058\n",
      "36                 w_freq_1999     190.921873\n",
      "30               w_freq_telnet     186.190674\n",
      "10              w_freq_receive     171.798535\n",
      "38                   w_freq_pm     166.768675\n",
      "2                   w_freq_all     161.647733\n",
      "9                  w_freq_mail     154.238427\n",
      "35           w_freq_technology     141.771613\n",
      "31                  w_freq_857     137.682170\n",
      "33                  w_freq_415     132.691105\n",
      "40                   w_freq_cs     130.319301\n"
     ]
    }
   ],
   "source": [
    "X = df.iloc[:,0:57]\n",
    "Y = df.iloc[:,-1]\n",
    "#apply SelectKBest class to extract top 10 best features\n",
    "bestfeatures = SelectKBest(score_func=chi2, k=10)\n",
    "fit = bestfeatures.fit(X,Y)\n",
    "dfscores = pd.DataFrame(fit.scores_)\n",
    "dfcolumns = pd.DataFrame(X.columns)\n",
    "#concat two dataframes for better visualization \n",
    "featureScores = pd.concat([dfcolumns,dfscores],axis=1)\n",
    "featureScores.columns = ['Specs','Score']  #naming the dataframe columns\n",
    "print(featureScores.nlargest(43,'Score'))  #print the best features"
   ]
  },
  {
   "cell_type": "markdown",
   "id": "5dfc86fa",
   "metadata": {},
   "source": [
    "Here we can see the 10 more important features of the dataset"
   ]
  },
  {
   "cell_type": "code",
   "execution_count": 24,
   "id": "292f1b7b",
   "metadata": {},
   "outputs": [],
   "source": [
    "x2 = df[np.array(np.array(featureScores.nlargest(43,'Score').Specs))]"
   ]
  },
  {
   "cell_type": "markdown",
   "id": "08833c69",
   "metadata": {},
   "source": [
    "Thanks to this, we are gonna see later if our models will be better by not taking all the features. "
   ]
  },
  {
   "cell_type": "code",
   "execution_count": 10,
   "id": "7e9aade3",
   "metadata": {},
   "outputs": [
    {
     "data": {
      "image/png": "[encoded data removed]",
      "text/plain": [
       "<Figure size 1440x1440 with 2 Axes>"
      ]
     },
     "metadata": {
      "needs_background": "light"
     },
     "output_type": "display_data"
    }
   ],
   "source": [
    "#get correlations of each features in dataset\n",
    "corrmat = df[[\"capital_run_length_total\", \"capital_run_length_longest\", \"capital_run_length_average\",\n",
    "             \"w_freq_george\", \"w_freq_hp\", \"w_freq_your\", \"w_freq_free\", \"w_freq_hpl\", \"w_freq_remove\", \"c_freq_!\"]].corr()\n",
    "top_corr_features = corrmat.index\n",
    "plt.figure(figsize=(20,20))\n",
    "#plot heat map\n",
    "g=sns.heatmap(df[top_corr_features].corr(),annot=True,cmap=\"RdYlGn\")"
   ]
  },
  {
   "cell_type": "markdown",
   "id": "c830df38",
   "metadata": {},
   "source": [
    "We can see here thant for the 10 more important features of the dataset, the is no big correlation between them. "
   ]
  },
  {
   "cell_type": "markdown",
   "id": "cb2c0aa0",
   "metadata": {},
   "source": [
    "# Standardize data"
   ]
  },
  {
   "cell_type": "code",
   "execution_count": 19,
   "id": "b7bb90ef",
   "metadata": {},
   "outputs": [],
   "source": [
    "from sklearn.preprocessing import StandardScaler\n",
    "scaler = StandardScaler()\n",
    "scaler.fit(x) # il ne faut fiter que les data d'entrainnement \n",
    "x = scaler.transform(x)\n",
    "x_train = scaler.transform(x_train)"
   ]
  },
  {
   "cell_type": "code",
   "execution_count": 25,
   "id": "d13e5ec0",
   "metadata": {},
   "outputs": [],
   "source": [
    "scaler2 = StandardScaler()\n",
    "scaler2.fit(x2)\n",
    "x2 = scaler2.transform(x2)"
   ]
  },
  {
   "cell_type": "markdown",
   "id": "58b29c61",
   "metadata": {},
   "source": [
    "# Model 1 : Gaussian Naive Bayes"
   ]
  },
  {
   "cell_type": "code",
   "execution_count": 26,
   "id": "9cccda28",
   "metadata": {},
   "outputs": [
    {
     "name": "stdout",
     "output_type": "stream",
     "text": [
      "[0.85124864 0.86630435 0.85434783 0.84347826 0.69565217]\n",
      "0.8222062502950479\n"
     ]
    }
   ],
   "source": [
    "model1 = GaussianNB()\n",
    "score1 = cross_val_score(model1, x, y, cv = 5)\n",
    "print(score1)\n",
    "print(np.mean(score1))"
   ]
  },
  {
   "cell_type": "code",
   "execution_count": 27,
   "id": "9094bee3",
   "metadata": {},
   "outputs": [
    {
     "name": "stdout",
     "output_type": "stream",
     "text": [
      "[0.85124864 0.87391304 0.80434783 0.84021739 0.70434783]\n",
      "0.8148149459472218\n"
     ]
    }
   ],
   "source": [
    "# By taking only the best features\n",
    "score_01 = cross_val_score(model1, x2, y, cv = 5)\n",
    "print(score_01)\n",
    "print(np.mean(score_01))"
   ]
  },
  {
   "cell_type": "code",
   "execution_count": 28,
   "id": "0fda2902",
   "metadata": {},
   "outputs": [
    {
     "data": {
      "image/png": "[encoded data removed]",
      "text/plain": [
       "<Figure size 432x288 with 1 Axes>"
      ]
     },
     "metadata": {
      "needs_background": "light"
     },
     "output_type": "display_data"
    }
   ],
   "source": [
    "plt.scatter(['1','2','3','4','5'], score1, marker = '^', c='r', label = \"With all features\")\n",
    "plt.scatter(['1','2','3','4','5'], score_01, marker = '*', c = 'g', label = \"Only best features\")\n",
    "plt.show()"
   ]
  },
  {
   "cell_type": "markdown",
   "id": "6d1feabb",
   "metadata": {},
   "source": [
    "# Model 2 : Benouilli Naive Bayes"
   ]
  },
  {
   "cell_type": "code",
   "execution_count": 29,
   "id": "6e9396a3",
   "metadata": {},
   "outputs": [
    {
     "name": "stdout",
     "output_type": "stream",
     "text": [
      "[0.91313789 0.91195652 0.91521739 0.93043478 0.81847826]\n",
      "0.8978449700231318\n"
     ]
    }
   ],
   "source": [
    "model2 = BernoulliNB()\n",
    "score2 = cross_val_score(model2, x, y, cv = 5)\n",
    "print(score2)\n",
    "print(np.mean(score2))"
   ]
  },
  {
   "cell_type": "code",
   "execution_count": 30,
   "id": "69271ca2",
   "metadata": {},
   "outputs": [
    {
     "name": "stdout",
     "output_type": "stream",
     "text": [
      "[0.91422367 0.91304348 0.92717391 0.93804348 0.83478261]\n",
      "0.9054534296369731\n"
     ]
    }
   ],
   "source": [
    "# By taking only the best features\n",
    "score_02 = cross_val_score(model2, x2, y, cv = 5)\n",
    "print(score_02)\n",
    "print(np.mean(score_02))"
   ]
  },
  {
   "cell_type": "code",
   "execution_count": 31,
   "id": "3d884fcd",
   "metadata": {},
   "outputs": [
    {
     "data": {
      "image/png": "[encoded data removed]",
      "text/plain": [
       "<Figure size 432x288 with 1 Axes>"
      ]
     },
     "metadata": {
      "needs_background": "light"
     },
     "output_type": "display_data"
    }
   ],
   "source": [
    "plt.scatter(['1','2','3','4','5'], score2, marker = '^', c='r', label = \"With all features\")\n",
    "plt.scatter(['1','2','3','4','5'], score_02, marker = '*', c = 'g', label = \"Only best features\")\n",
    "plt.show()"
   ]
  },
  {
   "cell_type": "markdown",
   "id": "975490a0",
   "metadata": {},
   "source": [
    "# Model 3 : DecisionTreeClassifier"
   ]
  },
  {
   "cell_type": "code",
   "execution_count": 32,
   "id": "985865a5",
   "metadata": {},
   "outputs": [
    {
     "name": "stdout",
     "output_type": "stream",
     "text": [
      "[0.91422367 0.92173913 0.93586957 0.93586957 0.80652174]\n",
      "0.9028447339847991\n"
     ]
    }
   ],
   "source": [
    "model3 = DecisionTreeClassifier(max_depth = 10, criterion = 'gini')\n",
    "score3 = cross_val_score(model3, x, y,cv = 5)\n",
    "print(score3)\n",
    "print(np.mean(score3))"
   ]
  },
  {
   "cell_type": "code",
   "execution_count": 33,
   "id": "dbccf59b",
   "metadata": {},
   "outputs": [
    {
     "name": "stdout",
     "output_type": "stream",
     "text": [
      "[0.91639522 0.91413043 0.9326087  0.93152174 0.79347826]\n",
      "0.897626870603786\n"
     ]
    }
   ],
   "source": [
    "# By taking only the best features \n",
    "score_03 = cross_val_score(model3, x2, y,cv = 5)\n",
    "print(score_03)\n",
    "print(np.mean(score_03))"
   ]
  },
  {
   "cell_type": "code",
   "execution_count": 34,
   "id": "344b0459",
   "metadata": {},
   "outputs": [
    {
     "data": {
      "image/png": "[encoded data removed]",
      "text/plain": [
       "<Figure size 432x288 with 1 Axes>"
      ]
     },
     "metadata": {
      "needs_background": "light"
     },
     "output_type": "display_data"
    }
   ],
   "source": [
    "plt.scatter(['1','2','3','4','5'], score3, marker = '^', c='r', label = \"With all features\")\n",
    "plt.scatter(['1','2','3','4','5'], score_03, marker = '*', c = 'g', label = \"Only best features\")\n",
    "plt.show()"
   ]
  },
  {
   "cell_type": "code",
   "execution_count": 35,
   "id": "9317abe5",
   "metadata": {},
   "outputs": [
    {
     "data": {
      "text/plain": [
       "{'ccp_alpha': 0.0,\n",
       " 'class_weight': None,\n",
       " 'criterion': 'gini',\n",
       " 'max_depth': 10,\n",
       " 'max_features': None,\n",
       " 'max_leaf_nodes': None,\n",
       " 'min_impurity_decrease': 0.0,\n",
       " 'min_impurity_split': None,\n",
       " 'min_samples_leaf': 1,\n",
       " 'min_samples_split': 2,\n",
       " 'min_weight_fraction_leaf': 0.0,\n",
       " 'random_state': None,\n",
       " 'splitter': 'best'}"
      ]
     },
     "execution_count": 35,
     "metadata": {},
     "output_type": "execute_result"
    }
   ],
   "source": [
    "model3.get_params()"
   ]
  },
  {
   "cell_type": "code",
   "execution_count": 36,
   "id": "04c7a925",
   "metadata": {},
   "outputs": [
    {
     "name": "stdout",
     "output_type": "stream",
     "text": [
      "0.9114906832298135 DecisionTreeClassifier(criterion='entropy', max_depth=11)\n"
     ]
    }
   ],
   "source": [
    "parameters = {'max_depth' : [10, 11, 9],\n",
    "             'criterion' : ['gini', 'entropy']}\n",
    "grid = GridSearchCV(DecisionTreeClassifier(), parameters, n_jobs=-1)\n",
    "grid.fit(x_train, y_train)\n",
    "print(grid.best_score_, grid.best_estimator_)"
   ]
  },
  {
   "cell_type": "markdown",
   "id": "b5a1ea9f",
   "metadata": {},
   "source": [
    "# Model 4 : Support Vector Machine Algorithm"
   ]
  },
  {
   "cell_type": "code",
   "execution_count": 37,
   "id": "4adf8664",
   "metadata": {},
   "outputs": [
    {
     "name": "stdout",
     "output_type": "stream",
     "text": [
      "[0.93268187 0.93369565 0.95       0.94891304 0.85      ]\n",
      "0.9230581126374922\n"
     ]
    }
   ],
   "source": [
    "model4 = svm.SVC()\n",
    "score4 = cross_val_score(model4, x, y,cv = 5)\n",
    "print(score4)\n",
    "print(np.mean(score4))"
   ]
  },
  {
   "cell_type": "code",
   "execution_count": 38,
   "id": "2bf92430",
   "metadata": {},
   "outputs": [
    {
     "name": "stdout",
     "output_type": "stream",
     "text": [
      "[0.93051031 0.93586957 0.94673913 0.94673913 0.85326087]\n",
      "0.922623802105462\n"
     ]
    }
   ],
   "source": [
    "# By taking only the best features \n",
    "score_04 = cross_val_score(model4, x2, y,cv = 5)\n",
    "print(score_04)\n",
    "print(np.mean(score_04))"
   ]
  },
  {
   "cell_type": "code",
   "execution_count": 39,
   "id": "e7bb0d67",
   "metadata": {},
   "outputs": [
    {
     "data": {
      "image/png": "[encoded data removed]",
      "text/plain": [
       "<Figure size 432x288 with 1 Axes>"
      ]
     },
     "metadata": {
      "needs_background": "light"
     },
     "output_type": "display_data"
    }
   ],
   "source": [
    "plt.scatter(['1','2','3','4','5'], score4, marker = '^', c='r', label = \"With all features\")\n",
    "plt.scatter(['1','2','3','4','5'], score_04, marker = '*', c = 'g', label = \"Only best features\")\n",
    "plt.show()"
   ]
  },
  {
   "cell_type": "markdown",
   "id": "6a08867b",
   "metadata": {},
   "source": [
    "# Model 5 : KNN"
   ]
  },
  {
   "cell_type": "code",
   "execution_count": 40,
   "id": "11fd0ca1",
   "metadata": {},
   "outputs": [
    {
     "name": "stdout",
     "output_type": "stream",
     "text": [
      "[0.88490771 0.90108696 0.92282609 0.92173913 0.77282609]\n",
      "0.8806771939763017\n"
     ]
    }
   ],
   "source": [
    "model5 = KNeighborsClassifier(n_neighbors = 3)\n",
    "score5 = cross_val_score(model5, x, y,cv = 5)\n",
    "print(score5)\n",
    "print(np.mean(score5))"
   ]
  },
  {
   "cell_type": "code",
   "execution_count": 41,
   "id": "3078ca0d",
   "metadata": {},
   "outputs": [
    {
     "name": "stdout",
     "output_type": "stream",
     "text": [
      "[0.88273616 0.90543478 0.91413043 0.91630435 0.80543478]\n",
      "0.8848081008355756\n"
     ]
    }
   ],
   "source": [
    "# By taking only the best features \n",
    "score_05 = cross_val_score(model5, x2, y,cv = 5)\n",
    "print(score_05)\n",
    "print(np.mean(score_05))"
   ]
  },
  {
   "cell_type": "code",
   "execution_count": 32,
   "id": "f7261dba",
   "metadata": {},
   "outputs": [
    {
     "data": {
      "image/png": "[encoded data removed]",
      "text/plain": [
       "<Figure size 432x288 with 1 Axes>"
      ]
     },
     "metadata": {
      "needs_background": "light"
     },
     "output_type": "display_data"
    }
   ],
   "source": [
    "plt.scatter(['1','2','3','4','5'], score5, marker = '^', c='r', label = \"With all features\")\n",
    "plt.scatter(['1','2','3','4','5'], score_05, marker = '*', c = 'g', label = \"Only best features\")\n",
    "plt.show()"
   ]
  },
  {
   "cell_type": "code",
   "execution_count": 42,
   "id": "1fc7a92f",
   "metadata": {},
   "outputs": [],
   "source": [
    "def acc(k):\n",
    "    model5 = KNeighborsClassifier(n_neighbors = k)\n",
    "    return np.mean(cross_val_score(model5, x, y,cv = 5))\n",
    "vect = [acc(i) for i in range(1,100)]"
   ]
  },
  {
   "cell_type": "code",
   "execution_count": 117,
   "id": "00f6e729",
   "metadata": {},
   "outputs": [
    {
     "data": {
      "image/png": "[encoded data removed]",
      "text/plain": [
       "<Figure size 432x288 with 1 Axes>"
      ]
     },
     "metadata": {
      "needs_background": "light"
     },
     "output_type": "display_data"
    }
   ],
   "source": [
    "plt.plot(vect)\n",
    "plt.show()"
   ]
  },
  {
   "cell_type": "markdown",
   "id": "70d39c8f",
   "metadata": {},
   "source": [
    "# Model6 : Multi-layer perceptron"
   ]
  },
  {
   "cell_type": "code",
   "execution_count": 43,
   "id": "00198dd2",
   "metadata": {},
   "outputs": [
    {
     "name": "stderr",
     "output_type": "stream",
     "text": [
      "C:\\Users\\maxim\\Anaconda3\\lib\\site-packages\\sklearn\\neural_network\\_multilayer_perceptron.py:614: ConvergenceWarning: Stochastic Optimizer: Maximum iterations (200) reached and the optimization hasn't converged yet.\n",
      "  warnings.warn(\n",
      "C:\\Users\\maxim\\Anaconda3\\lib\\site-packages\\sklearn\\neural_network\\_multilayer_perceptron.py:614: ConvergenceWarning: Stochastic Optimizer: Maximum iterations (200) reached and the optimization hasn't converged yet.\n",
      "  warnings.warn(\n",
      "C:\\Users\\maxim\\Anaconda3\\lib\\site-packages\\sklearn\\neural_network\\_multilayer_perceptron.py:614: ConvergenceWarning: Stochastic Optimizer: Maximum iterations (200) reached and the optimization hasn't converged yet.\n",
      "  warnings.warn(\n",
      "C:\\Users\\maxim\\Anaconda3\\lib\\site-packages\\sklearn\\neural_network\\_multilayer_perceptron.py:614: ConvergenceWarning: Stochastic Optimizer: Maximum iterations (200) reached and the optimization hasn't converged yet.\n",
      "  warnings.warn(\n"
     ]
    },
    {
     "name": "stdout",
     "output_type": "stream",
     "text": [
      "[0.93485342 0.93804348 0.95       0.95326087 0.83043478]\n",
      "0.9213185101260445\n"
     ]
    },
    {
     "name": "stderr",
     "output_type": "stream",
     "text": [
      "C:\\Users\\maxim\\Anaconda3\\lib\\site-packages\\sklearn\\neural_network\\_multilayer_perceptron.py:614: ConvergenceWarning: Stochastic Optimizer: Maximum iterations (200) reached and the optimization hasn't converged yet.\n",
      "  warnings.warn(\n"
     ]
    }
   ],
   "source": [
    "model6 = MLPClassifier(activation = 'logistic', max_iter = 200)\n",
    "score6 = cross_val_score(model6, x, y,cv = 5)\n",
    "print(score6)\n",
    "print(np.mean(score6))"
   ]
  },
  {
   "cell_type": "code",
   "execution_count": 44,
   "id": "2140ce37",
   "metadata": {},
   "outputs": [
    {
     "name": "stderr",
     "output_type": "stream",
     "text": [
      "C:\\Users\\maxim\\Anaconda3\\lib\\site-packages\\sklearn\\neural_network\\_multilayer_perceptron.py:614: ConvergenceWarning: Stochastic Optimizer: Maximum iterations (200) reached and the optimization hasn't converged yet.\n",
      "  warnings.warn(\n",
      "C:\\Users\\maxim\\Anaconda3\\lib\\site-packages\\sklearn\\neural_network\\_multilayer_perceptron.py:614: ConvergenceWarning: Stochastic Optimizer: Maximum iterations (200) reached and the optimization hasn't converged yet.\n",
      "  warnings.warn(\n",
      "C:\\Users\\maxim\\Anaconda3\\lib\\site-packages\\sklearn\\neural_network\\_multilayer_perceptron.py:614: ConvergenceWarning: Stochastic Optimizer: Maximum iterations (200) reached and the optimization hasn't converged yet.\n",
      "  warnings.warn(\n",
      "C:\\Users\\maxim\\Anaconda3\\lib\\site-packages\\sklearn\\neural_network\\_multilayer_perceptron.py:614: ConvergenceWarning: Stochastic Optimizer: Maximum iterations (200) reached and the optimization hasn't converged yet.\n",
      "  warnings.warn(\n"
     ]
    },
    {
     "name": "stdout",
     "output_type": "stream",
     "text": [
      "[0.93268187 0.93913043 0.95       0.94782609 0.84021739]\n",
      "0.9219711561157531\n"
     ]
    },
    {
     "name": "stderr",
     "output_type": "stream",
     "text": [
      "C:\\Users\\maxim\\Anaconda3\\lib\\site-packages\\sklearn\\neural_network\\_multilayer_perceptron.py:614: ConvergenceWarning: Stochastic Optimizer: Maximum iterations (200) reached and the optimization hasn't converged yet.\n",
      "  warnings.warn(\n"
     ]
    }
   ],
   "source": [
    "# By taking only the best features \n",
    "score_06 = cross_val_score(model6, x2, y,cv = 5)\n",
    "print(score_06)\n",
    "print(np.mean(score_06))"
   ]
  },
  {
   "cell_type": "code",
   "execution_count": 35,
   "id": "e2c642d8",
   "metadata": {},
   "outputs": [
    {
     "data": {
      "image/png": "[encoded data removed]",
      "text/plain": [
       "<Figure size 432x288 with 1 Axes>"
      ]
     },
     "metadata": {
      "needs_background": "light"
     },
     "output_type": "display_data"
    }
   ],
   "source": [
    "plt.scatter(['1','2','3','4','5'], score6, marker = '^', c='r', label = \"With all features\")\n",
    "plt.scatter(['1','2','3','4','5'], score_06, marker = '*', c = 'g', label = \"Only best features\")\n",
    "plt.show()"
   ]
  },
  {
   "cell_type": "code",
   "execution_count": 121,
   "id": "8262887c",
   "metadata": {},
   "outputs": [
    {
     "data": {
      "text/plain": [
       "{'activation': 'relu',\n",
       " 'alpha': 0.0001,\n",
       " 'batch_size': 'auto',\n",
       " 'beta_1': 0.9,\n",
       " 'beta_2': 0.999,\n",
       " 'early_stopping': False,\n",
       " 'epsilon': 1e-08,\n",
       " 'hidden_layer_sizes': (100,),\n",
       " 'learning_rate': 'constant',\n",
       " 'learning_rate_init': 0.001,\n",
       " 'max_fun': 15000,\n",
       " 'max_iter': 200,\n",
       " 'momentum': 0.9,\n",
       " 'n_iter_no_change': 10,\n",
       " 'nesterovs_momentum': True,\n",
       " 'power_t': 0.5,\n",
       " 'random_state': None,\n",
       " 'shuffle': True,\n",
       " 'solver': 'adam',\n",
       " 'tol': 0.0001,\n",
       " 'validation_fraction': 0.1,\n",
       " 'verbose': False,\n",
       " 'warm_start': False}"
      ]
     },
     "execution_count": 121,
     "metadata": {},
     "output_type": "execute_result"
    }
   ],
   "source": [
    "model6.get_params()"
   ]
  },
  {
   "cell_type": "markdown",
   "id": "e5d5810e",
   "metadata": {},
   "source": [
    "# Model 7 : Gaussian Process Classifier"
   ]
  },
  {
   "cell_type": "code",
   "execution_count": 45,
   "id": "76815b30",
   "metadata": {},
   "outputs": [
    {
     "name": "stdout",
     "output_type": "stream",
     "text": [
      "[0.90336591 0.90434783 0.92826087 0.93586957 0.81630435]\n",
      "0.8976297030637775\n"
     ]
    }
   ],
   "source": [
    "model7 = GaussianProcessClassifier()\n",
    "score7 = cross_val_score(model7, x, y,cv = 5)\n",
    "print(score7)\n",
    "print(np.mean(score7))"
   ]
  },
  {
   "cell_type": "code",
   "execution_count": 46,
   "id": "31ae9387",
   "metadata": {},
   "outputs": [
    {
     "name": "stdout",
     "output_type": "stream",
     "text": [
      "[0.90988056 0.91521739 0.93369565 0.9326087  0.82282609]\n",
      "0.9028456781381295\n"
     ]
    }
   ],
   "source": [
    "# By taking only the best features \n",
    "score_07 = cross_val_score(model7, x2, y,cv = 5)\n",
    "print(score_07)\n",
    "print(np.mean(score_07))"
   ]
  },
  {
   "cell_type": "code",
   "execution_count": 38,
   "id": "88e7c796",
   "metadata": {},
   "outputs": [
    {
     "data": {
      "image/png": "[encoded data removed]",
      "text/plain": [
       "<Figure size 432x288 with 1 Axes>"
      ]
     },
     "metadata": {
      "needs_background": "light"
     },
     "output_type": "display_data"
    }
   ],
   "source": [
    "plt.scatter(['1','2','3','4','5'], score7, marker = '^', c='r', label = \"With all features\")\n",
    "plt.scatter(['1','2','3','4','5'], score_07, marker = '*', c = 'g', label = \"Only best features\")\n",
    "plt.show()"
   ]
  },
  {
   "cell_type": "markdown",
   "id": "5bd8a16d",
   "metadata": {},
   "source": [
    "# Model 8 : Random Forest Classifier"
   ]
  },
  {
   "cell_type": "code",
   "execution_count": 47,
   "id": "eb47a160",
   "metadata": {},
   "outputs": [
    {
     "name": "stdout",
     "output_type": "stream",
     "text": [
      "[0.94571118 0.94347826 0.95108696 0.96956522 0.8326087 ]\n",
      "0.9284900627861965\n"
     ]
    }
   ],
   "source": [
    "model8 = RandomForestClassifier()\n",
    "score8 = cross_val_score(model8, x, y,cv = 5)\n",
    "print(score8)\n",
    "print(np.mean(score8))"
   ]
  },
  {
   "cell_type": "code",
   "execution_count": 48,
   "id": "ed387c01",
   "metadata": {},
   "outputs": [
    {
     "name": "stdout",
     "output_type": "stream",
     "text": [
      "[0.94896851 0.94456522 0.95434783 0.96413043 0.825     ]\n",
      "0.9274023981494596\n"
     ]
    }
   ],
   "source": [
    "# By taking only the best features \n",
    "score_08 = cross_val_score(model8, x2, y,cv = 5)\n",
    "print(score_08)\n",
    "print(np.mean(score_08))"
   ]
  },
  {
   "cell_type": "code",
   "execution_count": 43,
   "id": "772ab50d",
   "metadata": {},
   "outputs": [
    {
     "data": {
      "image/png": "[encoded data removed]",
      "text/plain": [
       "<Figure size 432x288 with 1 Axes>"
      ]
     },
     "metadata": {
      "needs_background": "light"
     },
     "output_type": "display_data"
    }
   ],
   "source": [
    "plt.scatter(['1','2','3','4','5'], score8, marker = '^', c='r', label = \"With all features\")\n",
    "plt.scatter(['1','2','3','4','5'], score_08, marker = '*', c = 'g', label = \"Only best features\")\n",
    "plt.show()"
   ]
  },
  {
   "cell_type": "markdown",
   "id": "e225dcd9",
   "metadata": {},
   "source": [
    "# Model 9 : Ada Boost Classifier"
   ]
  },
  {
   "cell_type": "code",
   "execution_count": 49,
   "id": "578c2c9d",
   "metadata": {},
   "outputs": [
    {
     "name": "stdout",
     "output_type": "stream",
     "text": [
      "[0.94136808 0.94673913 0.95543478 0.96630435 0.84021739]\n",
      "0.9300127460699616\n"
     ]
    }
   ],
   "source": [
    "model9 = AdaBoostClassifier()\n",
    "score9 = cross_val_score(model9, x, y,cv = 5)\n",
    "print(score9)\n",
    "print(np.mean(score9))"
   ]
  },
  {
   "cell_type": "code",
   "execution_count": 50,
   "id": "b3f8e649",
   "metadata": {},
   "outputs": [
    {
     "name": "stdout",
     "output_type": "stream",
     "text": [
      "[0.93702497 0.94565217 0.95869565 0.95652174 0.82934783]\n",
      "0.9254484728319878\n"
     ]
    }
   ],
   "source": [
    "# By taking only the best features \n",
    "score_09 = cross_val_score(model9, x2, y,cv = 5)\n",
    "print(score_09)\n",
    "print(np.mean(score_09))"
   ]
  },
  {
   "cell_type": "code",
   "execution_count": 46,
   "id": "f8dff12a",
   "metadata": {},
   "outputs": [
    {
     "data": {
      "image/png": "[encoded data removed]",
      "text/plain": [
       "<Figure size 432x288 with 1 Axes>"
      ]
     },
     "metadata": {
      "needs_background": "light"
     },
     "output_type": "display_data"
    }
   ],
   "source": [
    "plt.scatter(['1','2','3','4','5'], score9, marker = '^', c='r', label = \"With all features\")\n",
    "plt.scatter(['1','2','3','4','5'], score_09, marker = '*', c = 'g', label = \"Only best features\")\n",
    "plt.show()"
   ]
  },
  {
   "cell_type": "markdown",
   "id": "5093451d",
   "metadata": {},
   "source": [
    "# Model 10 : Quadratic Discriminant analysis"
   ]
  },
  {
   "cell_type": "code",
   "execution_count": 51,
   "id": "0d036e29",
   "metadata": {},
   "outputs": [
    {
     "name": "stdout",
     "output_type": "stream",
     "text": [
      "[0.86536374 0.87608696 0.85652174 0.8326087  0.71521739]\n",
      "0.8291597035358542\n"
     ]
    },
    {
     "name": "stderr",
     "output_type": "stream",
     "text": [
      "C:\\Users\\maxim\\Anaconda3\\lib\\site-packages\\sklearn\\discriminant_analysis.py:808: UserWarning: Variables are collinear\n",
      "  warnings.warn(\"Variables are collinear\")\n"
     ]
    }
   ],
   "source": [
    "model10 = QuadraticDiscriminantAnalysis()\n",
    "score10 = cross_val_score(model10, x, y,cv = 5)\n",
    "print(score10)\n",
    "print(np.mean(score10))"
   ]
  },
  {
   "cell_type": "code",
   "execution_count": 52,
   "id": "d4766075",
   "metadata": {},
   "outputs": [
    {
     "name": "stdout",
     "output_type": "stream",
     "text": [
      "[0.86536374 0.87391304 0.81304348 0.82173913 0.71956522]\n",
      "0.8187249209271584\n"
     ]
    },
    {
     "name": "stderr",
     "output_type": "stream",
     "text": [
      "C:\\Users\\maxim\\Anaconda3\\lib\\site-packages\\sklearn\\discriminant_analysis.py:808: UserWarning: Variables are collinear\n",
      "  warnings.warn(\"Variables are collinear\")\n"
     ]
    }
   ],
   "source": [
    "# By taking only the best features \n",
    "score_10 = cross_val_score(model10, x2, y,cv = 5)\n",
    "print(score_10)\n",
    "print(np.mean(score_10))"
   ]
  },
  {
   "cell_type": "code",
   "execution_count": 49,
   "id": "314486c7",
   "metadata": {
    "scrolled": true
   },
   "outputs": [
    {
     "data": {
      "image/png": "[encoded data removed]",
      "text/plain": [
       "<Figure size 432x288 with 1 Axes>"
      ]
     },
     "metadata": {
      "needs_background": "light"
     },
     "output_type": "display_data"
    }
   ],
   "source": [
    "plt.scatter(['1','2','3','4','5'], score10, marker = '^', c='r', label = \"With all features\")\n",
    "plt.scatter(['1','2','3','4','5'], score_10, marker = '*', c = 'g', label = \"Only best features\")\n",
    "plt.show()"
   ]
  },
  {
   "cell_type": "markdown",
   "id": "abc6a1cb",
   "metadata": {},
   "source": [
    "## Deep Learning "
   ]
  },
  {
   "cell_type": "code",
   "execution_count": 6,
   "id": "807c25ba",
   "metadata": {},
   "outputs": [],
   "source": [
    "import tensorflow as tf\n",
    "from tensorflow import keras\n",
    "from keras import Sequential\n",
    "from keras.models import * \n",
    "from keras.layers import * "
   ]
  },
  {
   "cell_type": "code",
   "execution_count": 14,
   "id": "c5c1649a",
   "metadata": {},
   "outputs": [],
   "source": [
    "def create_binary_model_bis():\n",
    "    model = Sequential([Dense(64, input_dim = 57, activation = 'relu'),\n",
    "                        Dense(1, activation = 'sigmoid')])\n",
    "    \n",
    "    model.compile(optimizer = 'adam',\n",
    "                  loss = 'binary_crossentropy',\n",
    "                  metrics = ['accuracy'])\n",
    "    return model"
   ]
  },
  {
   "cell_type": "code",
   "execution_count": 10,
   "id": "dd954a11",
   "metadata": {},
   "outputs": [],
   "source": [
    "from sklearn.preprocessing import StandardScaler\n",
    "def scale(data, scaler = StandardScaler()):\n",
    "    scaler.fit(data)\n",
    "    return scaler.transform(data)"
   ]
  },
  {
   "cell_type": "code",
   "execution_count": 11,
   "id": "fd4445b9",
   "metadata": {},
   "outputs": [],
   "source": [
    "x =  scale(np.array(df.drop('Is_Spam', 1)))\n",
    "y = np.transpose(np.array(df['Is_Spam']))"
   ]
  },
  {
   "cell_type": "code",
   "execution_count": 12,
   "id": "787cf41e",
   "metadata": {},
   "outputs": [],
   "source": [
    "from sklearn.model_selection import RepeatedKFold, cross_val_score\n",
    "from keras.wrappers.scikit_learn import KerasClassifier"
   ]
  },
  {
   "cell_type": "code",
   "execution_count": 13,
   "id": "a6a9e2f5",
   "metadata": {},
   "outputs": [
    {
     "name": "stderr",
     "output_type": "stream",
     "text": [
      "<ipython-input-13-dd0a61ff3705>:1: DeprecationWarning: KerasClassifier is deprecated, use Sci-Keras (https://github.com/adriangb/scikeras) instead.\n",
      "  estimator = KerasClassifier(build_fn = create_binary_model_bis, epochs = 25, batch_size = 10, verbose = 0)\n"
     ]
    },
    {
     "name": "stdout",
     "output_type": "stream",
     "text": [
      "[0.969697   0.9217391  0.96086955 0.93478262 0.94782609 0.94347829\n",
      " 0.94347829 0.96086955 0.93478262 0.9217391  0.96521741 0.95217389\n",
      " 0.93913043 0.94347829 0.93913043 0.95217389 0.96086955 0.96086955\n",
      " 0.95652175 0.95217389]\n"
     ]
    },
    {
     "data": {
      "text/plain": [
       "0.9480500638484954"
      ]
     },
     "execution_count": 13,
     "metadata": {},
     "output_type": "execute_result"
    }
   ],
   "source": [
    "estimator = KerasClassifier(build_fn = create_binary_model_bis, epochs = 25, batch_size = 10, verbose = 0)\n",
    "kfold = RepeatedKFold(n_splits = 20, n_repeats = 1)\n",
    "results = cross_val_score(estimator, x, y, cv = kfold, n_jobs = 1)\n",
    "print(results)\n",
    "results.mean()"
   ]
  },
  {
   "cell_type": "markdown",
   "id": "212ebf5b",
   "metadata": {},
   "source": [
    "### Now let's plot and compare our different models "
   ]
  },
  {
   "cell_type": "code",
   "execution_count": 53,
   "id": "cc9eb466",
   "metadata": {},
   "outputs": [],
   "source": [
    "models = ['Model1','Model2', 'Model3', 'Model4', 'Model5', 'Model6', 'Model7', 'Model8', 'Model9', 'Model10','DeepLearningModel']\n",
    "scores = [np.mean(score1), np.mean(score2),np.mean(score3), np.mean(score4), np.mean(score5), np.mean(score6), np.mean(score7),\n",
    "          np.mean(score8), np.mean(score9), np.mean(score10),results.mean()]"
   ]
  },
  {
   "cell_type": "code",
   "execution_count": 41,
   "id": "f89c8daf",
   "metadata": {},
   "outputs": [
    {
     "data": {
      "text/html": [
       "<div>\n",
       "<style scoped>\n",
       "    .dataframe tbody tr th:only-of-type {\n",
       "        vertical-align: middle;\n",
       "    }\n",
       "\n",
       "    .dataframe tbody tr th {\n",
       "        vertical-align: top;\n",
       "    }\n",
       "\n",
       "    .dataframe thead th {\n",
       "        text-align: right;\n",
       "    }\n",
       "</style>\n",
       "<table border=\"1\" class=\"dataframe\">\n",
       "  <thead>\n",
       "    <tr style=\"text-align: right;\">\n",
       "      <th></th>\n",
       "      <th>Model1</th>\n",
       "      <th>Model2</th>\n",
       "      <th>Model3</th>\n",
       "      <th>Model4</th>\n",
       "      <th>Model5</th>\n",
       "      <th>Model6</th>\n",
       "      <th>Model7</th>\n",
       "      <th>Model8</th>\n",
       "      <th>Model9</th>\n",
       "      <th>Model10</th>\n",
       "    </tr>\n",
       "  </thead>\n",
       "  <tbody>\n",
       "    <tr>\n",
       "      <th>0</th>\n",
       "      <td>0.851249</td>\n",
       "      <td>0.913138</td>\n",
       "      <td>0.913138</td>\n",
       "      <td>0.932682</td>\n",
       "      <td>0.884908</td>\n",
       "      <td>0.934853</td>\n",
       "      <td>0.903366</td>\n",
       "      <td>0.941368</td>\n",
       "      <td>0.941368</td>\n",
       "      <td>0.865364</td>\n",
       "    </tr>\n",
       "    <tr>\n",
       "      <th>1</th>\n",
       "      <td>0.866304</td>\n",
       "      <td>0.911957</td>\n",
       "      <td>0.916304</td>\n",
       "      <td>0.933696</td>\n",
       "      <td>0.901087</td>\n",
       "      <td>0.943478</td>\n",
       "      <td>0.904348</td>\n",
       "      <td>0.941304</td>\n",
       "      <td>0.946739</td>\n",
       "      <td>0.876087</td>\n",
       "    </tr>\n",
       "    <tr>\n",
       "      <th>2</th>\n",
       "      <td>0.854348</td>\n",
       "      <td>0.915217</td>\n",
       "      <td>0.938043</td>\n",
       "      <td>0.950000</td>\n",
       "      <td>0.922826</td>\n",
       "      <td>0.950000</td>\n",
       "      <td>0.928261</td>\n",
       "      <td>0.958696</td>\n",
       "      <td>0.955435</td>\n",
       "      <td>0.856522</td>\n",
       "    </tr>\n",
       "    <tr>\n",
       "      <th>3</th>\n",
       "      <td>0.843478</td>\n",
       "      <td>0.930435</td>\n",
       "      <td>0.935870</td>\n",
       "      <td>0.948913</td>\n",
       "      <td>0.921739</td>\n",
       "      <td>0.953261</td>\n",
       "      <td>0.935870</td>\n",
       "      <td>0.970652</td>\n",
       "      <td>0.966304</td>\n",
       "      <td>0.832609</td>\n",
       "    </tr>\n",
       "    <tr>\n",
       "      <th>4</th>\n",
       "      <td>0.695652</td>\n",
       "      <td>0.818478</td>\n",
       "      <td>0.801087</td>\n",
       "      <td>0.850000</td>\n",
       "      <td>0.772826</td>\n",
       "      <td>0.831522</td>\n",
       "      <td>0.816304</td>\n",
       "      <td>0.829348</td>\n",
       "      <td>0.840217</td>\n",
       "      <td>0.715217</td>\n",
       "    </tr>\n",
       "  </tbody>\n",
       "</table>\n",
       "</div>"
      ],
      "text/plain": [
       "     Model1    Model2    Model3    Model4    Model5    Model6    Model7  \\\n",
       "0  0.851249  0.913138  0.913138  0.932682  0.884908  0.934853  0.903366   \n",
       "1  0.866304  0.911957  0.916304  0.933696  0.901087  0.943478  0.904348   \n",
       "2  0.854348  0.915217  0.938043  0.950000  0.922826  0.950000  0.928261   \n",
       "3  0.843478  0.930435  0.935870  0.948913  0.921739  0.953261  0.935870   \n",
       "4  0.695652  0.818478  0.801087  0.850000  0.772826  0.831522  0.816304   \n",
       "\n",
       "     Model8    Model9   Model10  \n",
       "0  0.941368  0.941368  0.865364  \n",
       "1  0.941304  0.946739  0.876087  \n",
       "2  0.958696  0.955435  0.856522  \n",
       "3  0.970652  0.966304  0.832609  \n",
       "4  0.829348  0.840217  0.715217  "
      ]
     },
     "execution_count": 41,
     "metadata": {},
     "output_type": "execute_result"
    }
   ],
   "source": [
    "grid_model = pd.DataFrame({\"Model1\" : score1, \"Model2\" : score2, \"Model3\" : score3, \"Model4\" : score4, \"Model5\" : score5,\n",
    "                          \"Model6\" : score6, \"Model7\" : score7, \"Model8\" : score8, \"Model9\" : score9, \"Model10\" : score10})\n",
    "grid_model"
   ]
  },
  {
   "cell_type": "code",
   "execution_count": 54,
   "id": "aada1e52",
   "metadata": {},
   "outputs": [],
   "source": [
    "grid2 = pd.DataFrame({\"Model1\" : [np.mean(score1)], \"Model2\" : [np.mean(score2)], \"Model3\" : [np.mean(score3)], \n",
    "                      \"Model4\" : [np.mean(score4)], \"Model5\" : [np.mean(score5)], \"Model6\" : [np.mean(score6)], \n",
    "                      \"Model7\" : [np.mean(score7)], \"Model8\" : [np.mean(score8)], \"Model9\" : [np.mean(score9)], \n",
    "                      \"Model10\" : [np.mean(score10)], \"DeepLearningModel\" : [results.mean()]})"
   ]
  },
  {
   "cell_type": "code",
   "execution_count": 161,
   "id": "1dbe0185",
   "metadata": {},
   "outputs": [
    {
     "data": {
      "image/png": "[encoded data removed]",
      "text/plain": [
       "<Figure size 720x360 with 1 Axes>"
      ]
     },
     "metadata": {
      "needs_background": "light"
     },
     "output_type": "display_data"
    }
   ],
   "source": [
    "fig, axes = plt.subplots()\n",
    "fig.set_size_inches(10,5)\n",
    "axes.scatter(grid_model.columns, np.mean(grid_model), s = (np.std(grid_model)**5)*1000000000)\n",
    "plt.title('Models in fonction of their score')\n",
    "plt.show()"
   ]
  },
  {
   "cell_type": "code",
   "execution_count": 50,
   "id": "8ef40ecc",
   "metadata": {},
   "outputs": [
    {
     "data": {
      "image/png": "[encoded data removed]",
      "text/plain": [
       "<Figure size 1440x504 with 2 Axes>"
      ]
     },
     "metadata": {
      "needs_background": "light"
     },
     "output_type": "display_data"
    }
   ],
   "source": [
    "plt.figure(figsize=(20,7))\n",
    "sns.heatmap(grid_model, annot=True, cmap=\"YlGnBu\")\n",
    "plt.show()"
   ]
  },
  {
   "cell_type": "code",
   "execution_count": 55,
   "id": "e0fa3bd7",
   "metadata": {},
   "outputs": [
    {
     "data": {
      "image/png": "[encoded data removed]",
      "text/plain": [
       "<Figure size 1440x216 with 2 Axes>"
      ]
     },
     "metadata": {
      "needs_background": "light"
     },
     "output_type": "display_data"
    }
   ],
   "source": [
    "plt.figure(figsize=(20,3))\n",
    "sns.heatmap(grid2, annot=True, cmap=\"YlGnBu\")\n",
    "plt.show()"
   ]
  }
 ],
 "metadata": {
  "kernelspec": {
   "display_name": "Python 3",
   "language": "python",
   "name": "python3"
  },
  "language_info": {
   "codemirror_mode": {
    "name": "ipython",
    "version": 3
   },
   "file_extension": ".py",
   "mimetype": "text/x-python",
   "name": "python",
   "nbconvert_exporter": "python",
   "pygments_lexer": "ipython3",
   "version": "3.8.8"
  }
 },
 "nbformat": 4,
 "nbformat_minor": 5
}
